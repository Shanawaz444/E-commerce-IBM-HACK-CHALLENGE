{
 "cells": [
  {
   "cell_type": "code",
   "execution_count": 12,
   "id": "7d53da46",
   "metadata": {},
   "outputs": [],
   "source": [
    "import pandas as p"
   ]
  },
  {
   "cell_type": "code",
   "execution_count": 13,
   "id": "0b04cca6",
   "metadata": {},
   "outputs": [],
   "source": [
    "data=p.read_excel(\"USSuperstoredata.xls\")"
   ]
  },
  {
   "cell_type": "code",
   "execution_count": 14,
   "id": "5dca0db0",
   "metadata": {},
   "outputs": [
    {
     "data": {
      "text/plain": [
       "pandas.core.frame.DataFrame"
      ]
     },
     "execution_count": 14,
     "metadata": {},
     "output_type": "execute_result"
    }
   ],
   "source": [
    "type(data)"
   ]
  },
  {
   "cell_type": "code",
   "execution_count": 15,
   "id": "cc353447",
   "metadata": {},
   "outputs": [
    {
     "data": {
      "text/plain": [
       "(9994, 21)"
      ]
     },
     "execution_count": 15,
     "metadata": {},
     "output_type": "execute_result"
    }
   ],
   "source": [
    "data.shape"
   ]
  },
  {
   "cell_type": "code",
   "execution_count": 16,
   "id": "8ae5ffbb",
   "metadata": {},
   "outputs": [
    {
     "data": {
      "text/html": [
       "<div>\n",
       "<style scoped>\n",
       "    .dataframe tbody tr th:only-of-type {\n",
       "        vertical-align: middle;\n",
       "    }\n",
       "\n",
       "    .dataframe tbody tr th {\n",
       "        vertical-align: top;\n",
       "    }\n",
       "\n",
       "    .dataframe thead th {\n",
       "        text-align: right;\n",
       "    }\n",
       "</style>\n",
       "<table border=\"1\" class=\"dataframe\">\n",
       "  <thead>\n",
       "    <tr style=\"text-align: right;\">\n",
       "      <th></th>\n",
       "      <th>Row ID</th>\n",
       "      <th>Order ID</th>\n",
       "      <th>Order Date</th>\n",
       "      <th>Ship Date</th>\n",
       "      <th>Ship Mode</th>\n",
       "      <th>Customer ID</th>\n",
       "      <th>Customer Name</th>\n",
       "      <th>Segment</th>\n",
       "      <th>Country</th>\n",
       "      <th>City</th>\n",
       "      <th>...</th>\n",
       "      <th>Postal Code</th>\n",
       "      <th>Region</th>\n",
       "      <th>Product ID</th>\n",
       "      <th>Category</th>\n",
       "      <th>Sub-Category</th>\n",
       "      <th>Product Name</th>\n",
       "      <th>Sales</th>\n",
       "      <th>Quantity</th>\n",
       "      <th>Discount</th>\n",
       "      <th>Profit</th>\n",
       "    </tr>\n",
       "  </thead>\n",
       "  <tbody>\n",
       "    <tr>\n",
       "      <th>0</th>\n",
       "      <td>1</td>\n",
       "      <td>CA-2016-152156</td>\n",
       "      <td>2016-11-08</td>\n",
       "      <td>2016-11-11</td>\n",
       "      <td>Second Class</td>\n",
       "      <td>CG-12520</td>\n",
       "      <td>Claire Gute</td>\n",
       "      <td>Consumer</td>\n",
       "      <td>United States</td>\n",
       "      <td>Henderson</td>\n",
       "      <td>...</td>\n",
       "      <td>42420</td>\n",
       "      <td>South</td>\n",
       "      <td>FUR-BO-10001798</td>\n",
       "      <td>Furniture</td>\n",
       "      <td>Bookcases</td>\n",
       "      <td>Bush Somerset Collection Bookcase</td>\n",
       "      <td>261.9600</td>\n",
       "      <td>2</td>\n",
       "      <td>0.00</td>\n",
       "      <td>41.9136</td>\n",
       "    </tr>\n",
       "    <tr>\n",
       "      <th>1</th>\n",
       "      <td>2</td>\n",
       "      <td>CA-2016-152156</td>\n",
       "      <td>2016-11-08</td>\n",
       "      <td>2016-11-11</td>\n",
       "      <td>Second Class</td>\n",
       "      <td>CG-12520</td>\n",
       "      <td>Claire Gute</td>\n",
       "      <td>Consumer</td>\n",
       "      <td>United States</td>\n",
       "      <td>Henderson</td>\n",
       "      <td>...</td>\n",
       "      <td>42420</td>\n",
       "      <td>South</td>\n",
       "      <td>FUR-CH-10000454</td>\n",
       "      <td>Furniture</td>\n",
       "      <td>Chairs</td>\n",
       "      <td>Hon Deluxe Fabric Upholstered Stacking Chairs,...</td>\n",
       "      <td>731.9400</td>\n",
       "      <td>3</td>\n",
       "      <td>0.00</td>\n",
       "      <td>219.5820</td>\n",
       "    </tr>\n",
       "    <tr>\n",
       "      <th>2</th>\n",
       "      <td>3</td>\n",
       "      <td>CA-2016-138688</td>\n",
       "      <td>2016-06-12</td>\n",
       "      <td>2016-06-16</td>\n",
       "      <td>Second Class</td>\n",
       "      <td>DV-13045</td>\n",
       "      <td>Darrin Van Huff</td>\n",
       "      <td>Corporate</td>\n",
       "      <td>United States</td>\n",
       "      <td>Los Angeles</td>\n",
       "      <td>...</td>\n",
       "      <td>90036</td>\n",
       "      <td>West</td>\n",
       "      <td>OFF-LA-10000240</td>\n",
       "      <td>Office Supplies</td>\n",
       "      <td>Labels</td>\n",
       "      <td>Self-Adhesive Address Labels for Typewriters b...</td>\n",
       "      <td>14.6200</td>\n",
       "      <td>2</td>\n",
       "      <td>0.00</td>\n",
       "      <td>6.8714</td>\n",
       "    </tr>\n",
       "    <tr>\n",
       "      <th>3</th>\n",
       "      <td>4</td>\n",
       "      <td>US-2015-108966</td>\n",
       "      <td>2015-10-11</td>\n",
       "      <td>2015-10-18</td>\n",
       "      <td>Standard Class</td>\n",
       "      <td>SO-20335</td>\n",
       "      <td>Sean O'Donnell</td>\n",
       "      <td>Consumer</td>\n",
       "      <td>United States</td>\n",
       "      <td>Fort Lauderdale</td>\n",
       "      <td>...</td>\n",
       "      <td>33311</td>\n",
       "      <td>South</td>\n",
       "      <td>FUR-TA-10000577</td>\n",
       "      <td>Furniture</td>\n",
       "      <td>Tables</td>\n",
       "      <td>Bretford CR4500 Series Slim Rectangular Table</td>\n",
       "      <td>957.5775</td>\n",
       "      <td>5</td>\n",
       "      <td>0.45</td>\n",
       "      <td>-383.0310</td>\n",
       "    </tr>\n",
       "    <tr>\n",
       "      <th>4</th>\n",
       "      <td>5</td>\n",
       "      <td>US-2015-108966</td>\n",
       "      <td>2015-10-11</td>\n",
       "      <td>2015-10-18</td>\n",
       "      <td>Standard Class</td>\n",
       "      <td>SO-20335</td>\n",
       "      <td>Sean O'Donnell</td>\n",
       "      <td>Consumer</td>\n",
       "      <td>United States</td>\n",
       "      <td>Fort Lauderdale</td>\n",
       "      <td>...</td>\n",
       "      <td>33311</td>\n",
       "      <td>South</td>\n",
       "      <td>OFF-ST-10000760</td>\n",
       "      <td>Office Supplies</td>\n",
       "      <td>Storage</td>\n",
       "      <td>Eldon Fold 'N Roll Cart System</td>\n",
       "      <td>22.3680</td>\n",
       "      <td>2</td>\n",
       "      <td>0.20</td>\n",
       "      <td>2.5164</td>\n",
       "    </tr>\n",
       "  </tbody>\n",
       "</table>\n",
       "<p>5 rows × 21 columns</p>\n",
       "</div>"
      ],
      "text/plain": [
       "   Row ID        Order ID Order Date  Ship Date       Ship Mode Customer ID  \\\n",
       "0       1  CA-2016-152156 2016-11-08 2016-11-11    Second Class    CG-12520   \n",
       "1       2  CA-2016-152156 2016-11-08 2016-11-11    Second Class    CG-12520   \n",
       "2       3  CA-2016-138688 2016-06-12 2016-06-16    Second Class    DV-13045   \n",
       "3       4  US-2015-108966 2015-10-11 2015-10-18  Standard Class    SO-20335   \n",
       "4       5  US-2015-108966 2015-10-11 2015-10-18  Standard Class    SO-20335   \n",
       "\n",
       "     Customer Name    Segment        Country             City  ...  \\\n",
       "0      Claire Gute   Consumer  United States        Henderson  ...   \n",
       "1      Claire Gute   Consumer  United States        Henderson  ...   \n",
       "2  Darrin Van Huff  Corporate  United States      Los Angeles  ...   \n",
       "3   Sean O'Donnell   Consumer  United States  Fort Lauderdale  ...   \n",
       "4   Sean O'Donnell   Consumer  United States  Fort Lauderdale  ...   \n",
       "\n",
       "  Postal Code  Region       Product ID         Category Sub-Category  \\\n",
       "0       42420   South  FUR-BO-10001798        Furniture    Bookcases   \n",
       "1       42420   South  FUR-CH-10000454        Furniture       Chairs   \n",
       "2       90036    West  OFF-LA-10000240  Office Supplies       Labels   \n",
       "3       33311   South  FUR-TA-10000577        Furniture       Tables   \n",
       "4       33311   South  OFF-ST-10000760  Office Supplies      Storage   \n",
       "\n",
       "                                        Product Name     Sales  Quantity  \\\n",
       "0                  Bush Somerset Collection Bookcase  261.9600         2   \n",
       "1  Hon Deluxe Fabric Upholstered Stacking Chairs,...  731.9400         3   \n",
       "2  Self-Adhesive Address Labels for Typewriters b...   14.6200         2   \n",
       "3      Bretford CR4500 Series Slim Rectangular Table  957.5775         5   \n",
       "4                     Eldon Fold 'N Roll Cart System   22.3680         2   \n",
       "\n",
       "   Discount    Profit  \n",
       "0      0.00   41.9136  \n",
       "1      0.00  219.5820  \n",
       "2      0.00    6.8714  \n",
       "3      0.45 -383.0310  \n",
       "4      0.20    2.5164  \n",
       "\n",
       "[5 rows x 21 columns]"
      ]
     },
     "execution_count": 16,
     "metadata": {},
     "output_type": "execute_result"
    }
   ],
   "source": [
    "data.head(5)"
   ]
  },
  {
   "cell_type": "code",
   "execution_count": 17,
   "id": "af8add68",
   "metadata": {},
   "outputs": [
    {
     "data": {
      "text/html": [
       "<div>\n",
       "<style scoped>\n",
       "    .dataframe tbody tr th:only-of-type {\n",
       "        vertical-align: middle;\n",
       "    }\n",
       "\n",
       "    .dataframe tbody tr th {\n",
       "        vertical-align: top;\n",
       "    }\n",
       "\n",
       "    .dataframe thead th {\n",
       "        text-align: right;\n",
       "    }\n",
       "</style>\n",
       "<table border=\"1\" class=\"dataframe\">\n",
       "  <thead>\n",
       "    <tr style=\"text-align: right;\">\n",
       "      <th></th>\n",
       "      <th>Row ID</th>\n",
       "      <th>Order ID</th>\n",
       "      <th>Order Date</th>\n",
       "      <th>Ship Date</th>\n",
       "      <th>Ship Mode</th>\n",
       "      <th>Customer ID</th>\n",
       "      <th>Customer Name</th>\n",
       "      <th>Segment</th>\n",
       "      <th>Country</th>\n",
       "      <th>City</th>\n",
       "      <th>...</th>\n",
       "      <th>Postal Code</th>\n",
       "      <th>Region</th>\n",
       "      <th>Product ID</th>\n",
       "      <th>Category</th>\n",
       "      <th>Sub-Category</th>\n",
       "      <th>Product Name</th>\n",
       "      <th>Sales</th>\n",
       "      <th>Quantity</th>\n",
       "      <th>Discount</th>\n",
       "      <th>Profit</th>\n",
       "    </tr>\n",
       "  </thead>\n",
       "  <tbody>\n",
       "    <tr>\n",
       "      <th>4548</th>\n",
       "      <td>4549</td>\n",
       "      <td>CA-2015-126557</td>\n",
       "      <td>2015-07-12</td>\n",
       "      <td>2015-07-17</td>\n",
       "      <td>Second Class</td>\n",
       "      <td>RL-19615</td>\n",
       "      <td>Rob Lucas</td>\n",
       "      <td>Consumer</td>\n",
       "      <td>United States</td>\n",
       "      <td>Chicago</td>\n",
       "      <td>...</td>\n",
       "      <td>60610</td>\n",
       "      <td>Central</td>\n",
       "      <td>FUR-FU-10001861</td>\n",
       "      <td>Furniture</td>\n",
       "      <td>Furnishings</td>\n",
       "      <td>Floodlight Indoor Halogen Bulbs, 1 Bulb per Pa...</td>\n",
       "      <td>7.760</td>\n",
       "      <td>1</td>\n",
       "      <td>0.6</td>\n",
       "      <td>-2.1340</td>\n",
       "    </tr>\n",
       "    <tr>\n",
       "      <th>3204</th>\n",
       "      <td>3205</td>\n",
       "      <td>CA-2014-158372</td>\n",
       "      <td>2014-11-10</td>\n",
       "      <td>2014-11-16</td>\n",
       "      <td>Standard Class</td>\n",
       "      <td>RD-19900</td>\n",
       "      <td>Ruben Dartt</td>\n",
       "      <td>Consumer</td>\n",
       "      <td>United States</td>\n",
       "      <td>San Diego</td>\n",
       "      <td>...</td>\n",
       "      <td>92037</td>\n",
       "      <td>West</td>\n",
       "      <td>FUR-FU-10000397</td>\n",
       "      <td>Furniture</td>\n",
       "      <td>Furnishings</td>\n",
       "      <td>Luxo Economy Swing Arm Lamp</td>\n",
       "      <td>39.880</td>\n",
       "      <td>2</td>\n",
       "      <td>0.0</td>\n",
       "      <td>11.1664</td>\n",
       "    </tr>\n",
       "    <tr>\n",
       "      <th>865</th>\n",
       "      <td>866</td>\n",
       "      <td>CA-2014-149020</td>\n",
       "      <td>2014-01-10</td>\n",
       "      <td>2014-01-15</td>\n",
       "      <td>Standard Class</td>\n",
       "      <td>AJ-10780</td>\n",
       "      <td>Anthony Jacobs</td>\n",
       "      <td>Corporate</td>\n",
       "      <td>United States</td>\n",
       "      <td>Springfield</td>\n",
       "      <td>...</td>\n",
       "      <td>22153</td>\n",
       "      <td>South</td>\n",
       "      <td>OFF-LA-10004272</td>\n",
       "      <td>Office Supplies</td>\n",
       "      <td>Labels</td>\n",
       "      <td>Avery 482</td>\n",
       "      <td>2.890</td>\n",
       "      <td>1</td>\n",
       "      <td>0.0</td>\n",
       "      <td>1.3583</td>\n",
       "    </tr>\n",
       "    <tr>\n",
       "      <th>5485</th>\n",
       "      <td>5486</td>\n",
       "      <td>CA-2014-107573</td>\n",
       "      <td>2014-12-12</td>\n",
       "      <td>2014-12-17</td>\n",
       "      <td>Standard Class</td>\n",
       "      <td>PB-19150</td>\n",
       "      <td>Philip Brown</td>\n",
       "      <td>Consumer</td>\n",
       "      <td>United States</td>\n",
       "      <td>Miami</td>\n",
       "      <td>...</td>\n",
       "      <td>33178</td>\n",
       "      <td>South</td>\n",
       "      <td>OFF-EN-10001099</td>\n",
       "      <td>Office Supplies</td>\n",
       "      <td>Envelopes</td>\n",
       "      <td>Staple envelope</td>\n",
       "      <td>23.472</td>\n",
       "      <td>3</td>\n",
       "      <td>0.2</td>\n",
       "      <td>7.6284</td>\n",
       "    </tr>\n",
       "    <tr>\n",
       "      <th>3828</th>\n",
       "      <td>3829</td>\n",
       "      <td>CA-2017-141733</td>\n",
       "      <td>2017-05-07</td>\n",
       "      <td>2017-05-11</td>\n",
       "      <td>Standard Class</td>\n",
       "      <td>RW-19540</td>\n",
       "      <td>Rick Wilson</td>\n",
       "      <td>Corporate</td>\n",
       "      <td>United States</td>\n",
       "      <td>Detroit</td>\n",
       "      <td>...</td>\n",
       "      <td>48234</td>\n",
       "      <td>Central</td>\n",
       "      <td>FUR-CH-10002017</td>\n",
       "      <td>Furniture</td>\n",
       "      <td>Chairs</td>\n",
       "      <td>SAFCO Optional Arm Kit for Workspace Cribbage ...</td>\n",
       "      <td>26.640</td>\n",
       "      <td>1</td>\n",
       "      <td>0.0</td>\n",
       "      <td>7.4592</td>\n",
       "    </tr>\n",
       "  </tbody>\n",
       "</table>\n",
       "<p>5 rows × 21 columns</p>\n",
       "</div>"
      ],
      "text/plain": [
       "      Row ID        Order ID Order Date  Ship Date       Ship Mode  \\\n",
       "4548    4549  CA-2015-126557 2015-07-12 2015-07-17    Second Class   \n",
       "3204    3205  CA-2014-158372 2014-11-10 2014-11-16  Standard Class   \n",
       "865      866  CA-2014-149020 2014-01-10 2014-01-15  Standard Class   \n",
       "5485    5486  CA-2014-107573 2014-12-12 2014-12-17  Standard Class   \n",
       "3828    3829  CA-2017-141733 2017-05-07 2017-05-11  Standard Class   \n",
       "\n",
       "     Customer ID   Customer Name    Segment        Country         City  ...  \\\n",
       "4548    RL-19615       Rob Lucas   Consumer  United States      Chicago  ...   \n",
       "3204    RD-19900     Ruben Dartt   Consumer  United States    San Diego  ...   \n",
       "865     AJ-10780  Anthony Jacobs  Corporate  United States  Springfield  ...   \n",
       "5485    PB-19150    Philip Brown   Consumer  United States        Miami  ...   \n",
       "3828    RW-19540     Rick Wilson  Corporate  United States      Detroit  ...   \n",
       "\n",
       "     Postal Code   Region       Product ID         Category Sub-Category  \\\n",
       "4548       60610  Central  FUR-FU-10001861        Furniture  Furnishings   \n",
       "3204       92037     West  FUR-FU-10000397        Furniture  Furnishings   \n",
       "865        22153    South  OFF-LA-10004272  Office Supplies       Labels   \n",
       "5485       33178    South  OFF-EN-10001099  Office Supplies    Envelopes   \n",
       "3828       48234  Central  FUR-CH-10002017        Furniture       Chairs   \n",
       "\n",
       "                                           Product Name   Sales  Quantity  \\\n",
       "4548  Floodlight Indoor Halogen Bulbs, 1 Bulb per Pa...   7.760         1   \n",
       "3204                        Luxo Economy Swing Arm Lamp  39.880         2   \n",
       "865                                           Avery 482   2.890         1   \n",
       "5485                                    Staple envelope  23.472         3   \n",
       "3828  SAFCO Optional Arm Kit for Workspace Cribbage ...  26.640         1   \n",
       "\n",
       "      Discount   Profit  \n",
       "4548       0.6  -2.1340  \n",
       "3204       0.0  11.1664  \n",
       "865        0.0   1.3583  \n",
       "5485       0.2   7.6284  \n",
       "3828       0.0   7.4592  \n",
       "\n",
       "[5 rows x 21 columns]"
      ]
     },
     "execution_count": 17,
     "metadata": {},
     "output_type": "execute_result"
    }
   ],
   "source": [
    "data.sample(5)"
   ]
  },
  {
   "cell_type": "code",
   "execution_count": 18,
   "id": "d9299f2a",
   "metadata": {},
   "outputs": [
    {
     "data": {
      "text/html": [
       "<div>\n",
       "<style scoped>\n",
       "    .dataframe tbody tr th:only-of-type {\n",
       "        vertical-align: middle;\n",
       "    }\n",
       "\n",
       "    .dataframe tbody tr th {\n",
       "        vertical-align: top;\n",
       "    }\n",
       "\n",
       "    .dataframe thead th {\n",
       "        text-align: right;\n",
       "    }\n",
       "</style>\n",
       "<table border=\"1\" class=\"dataframe\">\n",
       "  <thead>\n",
       "    <tr style=\"text-align: right;\">\n",
       "      <th></th>\n",
       "      <th>Row ID</th>\n",
       "      <th>Postal Code</th>\n",
       "      <th>Sales</th>\n",
       "      <th>Quantity</th>\n",
       "      <th>Discount</th>\n",
       "      <th>Profit</th>\n",
       "    </tr>\n",
       "  </thead>\n",
       "  <tbody>\n",
       "    <tr>\n",
       "      <th>count</th>\n",
       "      <td>9994.000000</td>\n",
       "      <td>9994.000000</td>\n",
       "      <td>9994.000000</td>\n",
       "      <td>9994.000000</td>\n",
       "      <td>9994.000000</td>\n",
       "      <td>9994.000000</td>\n",
       "    </tr>\n",
       "    <tr>\n",
       "      <th>mean</th>\n",
       "      <td>4997.500000</td>\n",
       "      <td>55190.379428</td>\n",
       "      <td>229.858001</td>\n",
       "      <td>3.789574</td>\n",
       "      <td>0.156203</td>\n",
       "      <td>28.656896</td>\n",
       "    </tr>\n",
       "    <tr>\n",
       "      <th>std</th>\n",
       "      <td>2885.163629</td>\n",
       "      <td>32063.693350</td>\n",
       "      <td>623.245101</td>\n",
       "      <td>2.225110</td>\n",
       "      <td>0.206452</td>\n",
       "      <td>234.260108</td>\n",
       "    </tr>\n",
       "    <tr>\n",
       "      <th>min</th>\n",
       "      <td>1.000000</td>\n",
       "      <td>1040.000000</td>\n",
       "      <td>0.444000</td>\n",
       "      <td>1.000000</td>\n",
       "      <td>0.000000</td>\n",
       "      <td>-6599.978000</td>\n",
       "    </tr>\n",
       "    <tr>\n",
       "      <th>25%</th>\n",
       "      <td>2499.250000</td>\n",
       "      <td>23223.000000</td>\n",
       "      <td>17.280000</td>\n",
       "      <td>2.000000</td>\n",
       "      <td>0.000000</td>\n",
       "      <td>1.728750</td>\n",
       "    </tr>\n",
       "    <tr>\n",
       "      <th>50%</th>\n",
       "      <td>4997.500000</td>\n",
       "      <td>56430.500000</td>\n",
       "      <td>54.490000</td>\n",
       "      <td>3.000000</td>\n",
       "      <td>0.200000</td>\n",
       "      <td>8.666500</td>\n",
       "    </tr>\n",
       "    <tr>\n",
       "      <th>75%</th>\n",
       "      <td>7495.750000</td>\n",
       "      <td>90008.000000</td>\n",
       "      <td>209.940000</td>\n",
       "      <td>5.000000</td>\n",
       "      <td>0.200000</td>\n",
       "      <td>29.364000</td>\n",
       "    </tr>\n",
       "    <tr>\n",
       "      <th>max</th>\n",
       "      <td>9994.000000</td>\n",
       "      <td>99301.000000</td>\n",
       "      <td>22638.480000</td>\n",
       "      <td>14.000000</td>\n",
       "      <td>0.800000</td>\n",
       "      <td>8399.976000</td>\n",
       "    </tr>\n",
       "  </tbody>\n",
       "</table>\n",
       "</div>"
      ],
      "text/plain": [
       "            Row ID   Postal Code         Sales     Quantity     Discount  \\\n",
       "count  9994.000000   9994.000000   9994.000000  9994.000000  9994.000000   \n",
       "mean   4997.500000  55190.379428    229.858001     3.789574     0.156203   \n",
       "std    2885.163629  32063.693350    623.245101     2.225110     0.206452   \n",
       "min       1.000000   1040.000000      0.444000     1.000000     0.000000   \n",
       "25%    2499.250000  23223.000000     17.280000     2.000000     0.000000   \n",
       "50%    4997.500000  56430.500000     54.490000     3.000000     0.200000   \n",
       "75%    7495.750000  90008.000000    209.940000     5.000000     0.200000   \n",
       "max    9994.000000  99301.000000  22638.480000    14.000000     0.800000   \n",
       "\n",
       "            Profit  \n",
       "count  9994.000000  \n",
       "mean     28.656896  \n",
       "std     234.260108  \n",
       "min   -6599.978000  \n",
       "25%       1.728750  \n",
       "50%       8.666500  \n",
       "75%      29.364000  \n",
       "max    8399.976000  "
      ]
     },
     "execution_count": 18,
     "metadata": {},
     "output_type": "execute_result"
    }
   ],
   "source": [
    "data.describe()"
   ]
  },
  {
   "cell_type": "code",
   "execution_count": 19,
   "id": "b74affda",
   "metadata": {},
   "outputs": [
    {
     "name": "stdout",
     "output_type": "stream",
     "text": [
      "<class 'pandas.core.frame.DataFrame'>\n",
      "RangeIndex: 9994 entries, 0 to 9993\n",
      "Data columns (total 21 columns):\n",
      " #   Column         Non-Null Count  Dtype         \n",
      "---  ------         --------------  -----         \n",
      " 0   Row ID         9994 non-null   int64         \n",
      " 1   Order ID       9994 non-null   object        \n",
      " 2   Order Date     9994 non-null   datetime64[ns]\n",
      " 3   Ship Date      9994 non-null   datetime64[ns]\n",
      " 4   Ship Mode      9994 non-null   object        \n",
      " 5   Customer ID    9994 non-null   object        \n",
      " 6   Customer Name  9994 non-null   object        \n",
      " 7   Segment        9994 non-null   object        \n",
      " 8   Country        9994 non-null   object        \n",
      " 9   City           9994 non-null   object        \n",
      " 10  State          9994 non-null   object        \n",
      " 11  Postal Code    9994 non-null   int64         \n",
      " 12  Region         9994 non-null   object        \n",
      " 13  Product ID     9994 non-null   object        \n",
      " 14  Category       9994 non-null   object        \n",
      " 15  Sub-Category   9994 non-null   object        \n",
      " 16  Product Name   9994 non-null   object        \n",
      " 17  Sales          9994 non-null   float64       \n",
      " 18  Quantity       9994 non-null   int64         \n",
      " 19  Discount       9994 non-null   float64       \n",
      " 20  Profit         9994 non-null   float64       \n",
      "dtypes: datetime64[ns](2), float64(3), int64(3), object(13)\n",
      "memory usage: 1.6+ MB\n"
     ]
    }
   ],
   "source": [
    "data.info()"
   ]
  },
  {
   "cell_type": "code",
   "execution_count": 20,
   "id": "e3da146f",
   "metadata": {},
   "outputs": [
    {
     "data": {
      "text/plain": [
       "0       South\n",
       "1       South\n",
       "2        West\n",
       "3       South\n",
       "4       South\n",
       "        ...  \n",
       "9989    South\n",
       "9990     West\n",
       "9991     West\n",
       "9992     West\n",
       "9993     West\n",
       "Name: Region, Length: 9994, dtype: object"
      ]
     },
     "execution_count": 20,
     "metadata": {},
     "output_type": "execute_result"
    }
   ],
   "source": [
    "data[\"Region\"]"
   ]
  },
  {
   "cell_type": "code",
   "execution_count": 21,
   "id": "b3ffa7ac",
   "metadata": {},
   "outputs": [
    {
     "data": {
      "text/plain": [
       "array(['South', 'West', 'Central', 'East'], dtype=object)"
      ]
     },
     "execution_count": 21,
     "metadata": {},
     "output_type": "execute_result"
    }
   ],
   "source": [
    "data.Region.unique()"
   ]
  },
  {
   "cell_type": "code",
   "execution_count": 22,
   "id": "c911a1de",
   "metadata": {},
   "outputs": [],
   "source": [
    "l=list(data[\"Region\"])"
   ]
  },
  {
   "cell_type": "code",
   "execution_count": 23,
   "id": "9db9ea59",
   "metadata": {},
   "outputs": [
    {
     "name": "stdout",
     "output_type": "stream",
     "text": [
      "['South', 'South', 'West', 'South', 'South', 'West', 'West', 'West', 'West', 'West', 'West', 'West', 'South', 'West', 'Central', 'Central', 'Central', 'West', 'West', 'West', 'West', 'Central', 'Central', 'East', 'West', 'West', 'West', 'East', 'East', 'East', 'East', 'East', 'East', 'East', 'Central', 'Central', 'Central', 'Central', 'Central', 'Central', 'Central', 'Central', 'West', 'South', 'Central', 'Central', 'Central', 'East', 'East', 'Central', 'Central', 'Central', 'Central', 'East', 'East', 'East', 'East', 'East', 'East', 'East', 'East', 'East', 'West', 'West', 'West', 'West', 'Central', 'West', 'West', 'South', 'East', 'Central', 'South', 'South', 'South', 'Central', 'Central', 'Central', 'Central', 'South', 'South', 'West', 'West', 'South', 'Central', 'South', 'Central', 'Central', 'Central', 'West', 'West', 'West', 'Central', 'Central', 'Central', 'West', 'East', 'West', 'Central', 'Central', 'Central', 'Central', 'Central', 'West', 'West', 'West', 'South', 'South', 'South', 'Central', 'East', 'Central', 'Central', 'East', 'East', 'East', 'East', 'West', 'South', 'East', 'East', 'East', 'East', 'East', 'Central', 'Central', 'West', 'West', 'West', 'West', 'East', 'East', 'East', 'West', 'West', 'West', 'West', 'West', 'West', 'West', 'East', 'West', 'West', 'West', 'Central', 'West', 'East', 'Central', 'Central', 'Central', 'Central', 'West', 'West', 'West', 'West', 'West', 'West', 'West', 'Central', 'Central', 'West', 'East', 'West', 'West', 'Central', 'Central', 'Central', 'Central', 'Central', 'Central', 'Central', 'West', 'West', 'West', 'Central', 'Central', 'Central', 'East', 'East', 'East', 'Central', 'Central', 'South', 'South', 'South', 'East', 'West', 'Central', 'Central', 'East', 'East', 'East', 'East', 'East', 'West', 'East', 'East', 'East', 'East', 'East', 'East', 'West', 'West', 'Central', 'South', 'West', 'Central', 'Central', 'Central', 'Central', 'Central', 'Central', 'East', 'East', 'East', 'East', 'East', 'West', 'West', 'East', 'East', 'East', 'East', 'East', 'East', 'Central', 'Central', 'Central', 'South', 'South', 'South', 'South', 'South', 'South', 'South', 'South', 'West', 'Central', 'Central', 'Central', 'Central', 'Central', 'Central', 'Central', 'Central', 'Central', 'Central', 'Central', 'Central', 'West', 'West', 'West', 'East', 'East', 'Central', 'Central', 'Central', 'Central', 'East', 'East', 'East', 'Central', 'Central', 'Central', 'Central', 'West', 'South', 'East', 'East', 'East', 'West', 'West', 'West', 'West', 'West', 'West', 'East', 'East', 'East', 'East', 'Central', 'Central', 'West', 'West', 'West', 'West', 'South', 'South', 'South', 'East', 'East', 'East', 'East', 'West', 'West', 'West', 'West', 'West', 'East', 'East', 'East', 'East', 'East', 'Central', 'East', 'Central', 'East', 'East', 'South', 'West', 'West', 'West', 'West', 'East', 'South', 'South', 'East', 'East', 'East', 'East', 'East', 'East', 'West', 'West', 'West', 'South', 'East', 'East', 'East', 'East', 'East', 'East', 'East', 'East', 'West', 'West', 'West', 'West', 'West', 'West', 'East', 'East', 'East', 'East', 'Central', 'West', 'East', 'East', 'East', 'East', 'East', 'East', 'East', 'East', 'East', 'East', 'East', 'East', 'South', 'South', 'South', 'East', 'East', 'East', 'East', 'West', 'East', 'East', 'East', 'East', 'Central', 'Central', 'West', 'West', 'West', 'West', 'Central', 'East', 'Central', 'Central', 'Central', 'West', 'West', 'Central', 'South', 'South', 'East', 'East', 'East', 'East', 'East', 'West', 'West', 'Central', 'West', 'East', 'East', 'Central', 'Central', 'Central', 'Central', 'Central', 'South', 'South', 'East', 'West', 'West', 'West', 'West', 'West', 'West', 'West', 'West', 'West', 'West', 'West', 'West', 'West', 'South', 'West', 'West', 'West', 'East', 'East', 'South', 'Central', 'Central', 'East', 'Central', 'South', 'South', 'South', 'South', 'East', 'South', 'South', 'Central', 'Central', 'Central', 'East', 'Central', 'Central', 'Central', 'Central', 'Central', 'Central', 'Central', 'East', 'East', 'East', 'East', 'East', 'East', 'East', 'East', 'Central', 'West', 'Central', 'Central', 'West', 'West', 'West', 'West', 'West', 'West', 'West', 'West', 'Central', 'Central', 'Central', 'East', 'West', 'West', 'West', 'West', 'West', 'West', 'West', 'East', 'East', 'East', 'West', 'East', 'East', 'West', 'West', 'West', 'Central', 'Central', 'Central', 'Central', 'East', 'East', 'West', 'South', 'South', 'West', 'West', 'West', 'West', 'West', 'West', 'West', 'West', 'West', 'East', 'South', 'South', 'South', 'South', 'Central', 'Central', 'East', 'West', 'West', 'West', 'West', 'West', 'West', 'Central', 'Central', 'Central', 'Central', 'West', 'West', 'East', 'South', 'South', 'East', 'East', 'East', 'West', 'West', 'South', 'South', 'West', 'Central', 'East', 'South', 'South', 'Central', 'West', 'East', 'Central', 'Central', 'Central', 'East', 'East', 'Central', 'Central', 'Central', 'West', 'South', 'Central', 'West', 'South', 'West', 'West', 'West', 'West', 'West', 'South', 'South', 'West', 'West', 'West', 'West', 'West', 'West', 'West', 'East', 'East', 'East', 'East', 'West', 'West', 'West', 'West', 'Central', 'Central', 'West', 'West', 'West', 'West', 'West', 'West', 'South', 'South', 'West', 'West', 'West', 'West', 'Central', 'Central', 'West', 'West', 'West', 'West', 'East', 'East', 'East', 'East', 'South', 'South', 'South', 'South', 'South', 'East', 'East', 'East', 'Central', 'Central', 'East', 'East', 'East', 'East', 'East', 'East', 'East', 'East', 'East', 'Central', 'Central', 'Central', 'Central', 'Central', 'East', 'West', 'West', 'West', 'West', 'West', 'West', 'South', 'South', 'South', 'West', 'West', 'West', 'West', 'Central', 'West', 'West', 'Central', 'East', 'Central', 'West', 'West', 'West', 'West', 'West', 'East', 'East', 'East', 'East', 'East', 'East', 'Central', 'Central', 'Central', 'Central', 'Central', 'Central', 'East', 'South', 'Central', 'Central', 'Central', 'East', 'Central', 'Central', 'Central', 'Central', 'Central', 'Central', 'Central', 'Central', 'Central', 'Central', 'Central', 'East', 'East', 'East', 'South', 'South', 'South', 'South', 'South', 'East', 'South', 'South', 'South', 'West', 'West', 'East', 'East', 'East', 'East', 'East', 'East', 'East', 'East', 'West', 'West', 'South', 'South', 'South', 'East', 'East', 'East', 'East', 'South', 'East', 'East', 'East', 'West', 'East', 'East', 'West', 'West', 'West', 'Central', 'Central', 'East', 'South', 'Central', 'Central', 'East', 'East', 'East', 'East', 'East', 'West', 'West', 'West', 'West', 'West', 'West', 'West', 'Central', 'Central', 'Central', 'Central', 'Central', 'Central', 'Central', 'West', 'West', 'Central', 'Central', 'Central', 'Central', 'Central', 'West', 'West', 'South', 'Central', 'Central', 'East', 'Central', 'West', 'South', 'East', 'South', 'South', 'South', 'South', 'South', 'South', 'South', 'Central', 'Central', 'Central', 'Central', 'Central', 'Central', 'East', 'West', 'West', 'West', 'West', 'East', 'East', 'East', 'East', 'South', 'West', 'West', 'South', 'South', 'South', 'South', 'South', 'West', 'West', 'Central', 'East', 'East', 'East', 'West', 'West', 'West', 'East', 'South', 'West', 'West', 'West', 'Central', 'Central', 'West', 'West', 'West', 'West', 'West', 'West', 'Central', 'East', 'East', 'East', 'East', 'East', 'East', 'East', 'East', 'West', 'West', 'Central', 'Central', 'Central', 'South', 'South', 'South', 'South', 'South', 'South', 'South', 'Central', 'South', 'Central', 'East', 'East', 'East', 'West', 'West', 'West', 'West', 'South', 'South', 'East', 'East', 'West', 'West', 'South', 'East', 'East', 'East', 'East', 'East', 'East', 'East', 'West', 'West', 'South', 'South', 'South', 'South', 'South', 'East', 'East', 'East', 'East', 'East', 'East', 'East', 'South', 'East', 'East', 'East', 'East', 'East', 'East', 'South', 'West', 'Central', 'East', 'West', 'West', 'East', 'West', 'East', 'East', 'Central', 'Central', 'Central', 'West', 'West', 'Central', 'Central', 'East', 'East', 'Central', 'Central', 'Central', 'West', 'West', 'West', 'East', 'East', 'East', 'Central', 'Central', 'Central', 'East', 'Central', 'Central', 'Central', 'Central', 'Central', 'Central', 'Central', 'South', 'East', 'East', 'East', 'East', 'East', 'East', 'South', 'South', 'East', 'East', 'East', 'East', 'East', 'East', 'East', 'East', 'West', 'West', 'West', 'West', 'West', 'West', 'West', 'West', 'West', 'West', 'East', 'East', 'East', 'East', 'East', 'East', 'Central', 'Central', 'South', 'West', 'West', 'West', 'West', 'West', 'South', 'West', 'South', 'East', 'East', 'East', 'East', 'East', 'East', 'East', 'East', 'East', 'East', 'East', 'East', 'West', 'Central', 'South', 'Central', 'East', 'West', 'West', 'West', 'Central', 'Central', 'Central', 'Central', 'East', 'East', 'South', 'East', 'West', 'West', 'South', 'South', 'South', 'South', 'South', 'South', 'West', 'East', 'East', 'East', 'West', 'South', 'West', 'West', 'Central', 'Central', 'West', 'West', 'West', 'West', 'West', 'West', 'East', 'East', 'East', 'East', 'East', 'East', 'East', 'East', 'West', 'East', 'East', 'East', 'East', 'East', 'East', 'East', 'East', 'East', 'East', 'East', 'Central', 'West', 'South', 'South', 'Central', 'East', 'East', 'Central', 'Central', 'Central', 'South', 'South', 'West', 'West', 'East', 'East', 'East', 'East', 'East', 'East', 'East', 'West', 'West', 'East', 'Central', 'East', 'East', 'East', 'East', 'East', 'East', 'West', 'Central', 'East', 'West', 'West', 'East', 'West', 'West', 'West', 'Central', 'West', 'West', 'West', 'Central', 'Central', 'East', 'East', 'East', 'East', 'Central', 'West', 'West', 'South', 'South', 'West', 'West', 'East', 'East', 'South', 'South', 'West', 'West', 'West', 'West', 'West', 'Central', 'Central', 'West', 'Central', 'Central', 'Central', 'Central', 'Central', 'Central', 'Central', 'Central', 'West', 'West', 'West', 'West', 'South', 'South', 'South', 'South', 'South', 'South', 'South', 'South', 'South', 'South', 'Central', 'Central', 'South', 'South', 'South', 'West', 'East', 'East', 'South', 'Central', 'Central', 'Central', 'Central', 'Central', 'West', 'West', 'West', 'West', 'West', 'Central', 'Central', 'Central', 'Central', 'Central', 'East', 'West', 'West', 'South', 'South', 'South', 'South', 'West', 'Central', 'Central', 'West', 'East', 'East', 'East', 'Central', 'West', 'East', 'East', 'East', 'East', 'Central', 'West', 'Central', 'East', 'East', 'West', 'East', 'East', 'Central', 'East', 'East', 'South', 'South', 'West', 'West', 'West', 'West', 'West', 'West', 'West', 'West', 'West', 'South', 'South', 'South', 'South', 'Central', 'Central', 'Central', 'West', 'West', 'West', 'West', 'West', 'South', 'East', 'East', 'East', 'East', 'East', 'East', 'East', 'East', 'East', 'East', 'East', 'East', 'East', 'East', 'West', 'West', 'East', 'East', 'East', 'East', 'East', 'East', 'West', 'West', 'West', 'East', 'East', 'East', 'South', 'South', 'South', 'South', 'West', 'West', 'West', 'East', 'East', 'East', 'South', 'West', 'West', 'West', 'East', 'East', 'East', 'East', 'Central', 'East', 'East', 'East', 'East', 'South', 'South', 'South', 'South', 'South', 'East', 'Central', 'Central', 'West', 'West', 'West', 'West', 'South', 'Central', 'Central', 'Central', 'Central', 'Central', 'Central', 'Central', 'Central', 'South', 'South', 'Central', 'South', 'South', 'South', 'Central', 'East', 'East', 'East', 'East', 'East', 'West', 'West', 'West', 'West', 'West', 'West', 'West', 'West', 'Central', 'West', 'South', 'South', 'South', 'South', 'South', 'Central', 'West', 'West', 'West', 'West', 'West', 'East', 'East', 'East', 'West', 'West', 'West', 'East', 'South', 'South', 'East', 'East', 'South', 'South', 'East', 'Central', 'East', 'East', 'West', 'West', 'East', 'East', 'Central', 'Central', 'West', 'East', 'West', 'East', 'East', 'East', 'South', 'South', 'South', 'East', 'East', 'Central', 'Central', 'Central', 'Central', 'Central', 'Central', 'South', 'West', 'West', 'West', 'Central', 'Central', 'South', 'Central', 'West', 'East', 'East', 'East', 'West', 'West', 'West', 'West', 'West', 'West', 'West', 'West', 'East', 'West', 'West', 'West', 'West', 'West', 'West', 'West', 'West', 'West', 'Central', 'South', 'South', 'South', 'South', 'South', 'South', 'South', 'South', 'South', 'South', 'South', 'South', 'Central', 'Central', 'East', 'East', 'East', 'East', 'South', 'South', 'East', 'East', 'East', 'East', 'East', 'East', 'East', 'West', 'Central', 'East', 'East', 'East', 'West', 'West', 'Central', 'Central', 'Central', 'West', 'West', 'West', 'West', 'West', 'West', 'West', 'West', 'West', 'West', 'West', 'East', 'South', 'South', 'South', 'West', 'East', 'East', 'Central', 'Central', 'East', 'East', 'West', 'South', 'West', 'Central', 'Central', 'Central', 'Central', 'East', 'West', 'West', 'South', 'South', 'South', 'South', 'South', 'South', 'East', 'Central', 'East', 'West', 'East', 'Central', 'Central', 'East', 'West', 'West', 'South', 'Central', 'Central', 'Central', 'East', 'West', 'Central', 'East', 'East', 'East', 'South', 'West', 'West', 'West', 'West', 'South', 'South', 'West', 'East', 'West', 'West', 'West', 'East', 'East', 'East', 'East', 'West', 'South', 'Central', 'Central', 'Central', 'West', 'Central', 'Central', 'Central', 'West', 'West', 'West', 'West', 'East', 'South', 'Central', 'West', 'West', 'West', 'Central', 'Central', 'Central', 'East', 'West', 'West', 'West', 'West', 'Central', 'West', 'West', 'West', 'West', 'West', 'East', 'East', 'East', 'East', 'South', 'West', 'West', 'East', 'West', 'East', 'East', 'East', 'East', 'East', 'East', 'East', 'East', 'West', 'West', 'East', 'Central', 'Central', 'Central', 'East', 'Central', 'West', 'Central', 'South', 'West', 'East', 'East', 'East', 'West', 'West', 'West', 'West', 'East', 'East', 'South', 'West', 'Central', 'Central', 'West', 'South', 'West', 'West', 'West', 'West', 'Central', 'Central', 'Central', 'South', 'East', 'East', 'East', 'East', 'East', 'East', 'East', 'East', 'East', 'East', 'East', 'South', 'Central', 'Central', 'West', 'West', 'Central', 'East', 'East', 'Central', 'Central', 'Central', 'Central', 'East', 'South', 'East', 'West', 'West', 'West', 'West', 'West', 'West', 'West', 'West', 'West', 'West', 'East', 'Central', 'Central', 'Central', 'East', 'East', 'West', 'West', 'West', 'West', 'West', 'West', 'East', 'South', 'East', 'East', 'East', 'East', 'East', 'East', 'East', 'West', 'West', 'West', 'East', 'East', 'East', 'East', 'Central', 'West', 'West', 'West', 'East', 'East', 'East', 'East', 'West', 'West', 'West', 'West', 'West', 'West', 'West', 'Central', 'West', 'West', 'West', 'East', 'East', 'Central', 'Central', 'Central', 'Central', 'Central', 'Central', 'East', 'Central', 'West', 'Central', 'South', 'Central', 'Central', 'West', 'West', 'East', 'East', 'East', 'East', 'West', 'West', 'East', 'East', 'East', 'East', 'East', 'East', 'Central', 'Central', 'East', 'Central', 'East', 'East', 'East', 'West', 'West', 'West', 'East', 'East', 'East', 'West', 'West', 'East', 'West', 'West', 'West', 'West', 'West', 'West', 'Central', 'Central', 'West', 'East', 'East', 'East', 'East', 'East', 'East', 'Central', 'Central', 'Central', 'East', 'East', 'East', 'East', 'South', 'South', 'South', 'South', 'Central', 'Central', 'South', 'South', 'South', 'West', 'West', 'West', 'West', 'East', 'East', 'East', 'East', 'East', 'South', 'South', 'Central', 'Central', 'Central', 'West', 'West', 'West', 'West', 'Central', 'Central', 'Central', 'Central', 'East', 'West', 'West', 'West', 'South', 'South', 'South', 'South', 'South', 'South', 'Central', 'Central', 'Central', 'Central', 'East', 'East', 'East', 'East', 'West', 'West', 'East', 'East', 'East', 'East', 'Central', 'Central', 'Central', 'Central', 'Central', 'Central', 'Central', 'East', 'Central', 'Central', 'Central', 'Central', 'East', 'East', 'East', 'West', 'Central', 'Central', 'West', 'East', 'East', 'East', 'West', 'West', 'West', 'Central', 'Central', 'Central', 'South', 'East', 'East', 'West', 'West', 'West', 'West', 'Central', 'Central', 'Central', 'Central', 'Central', 'Central', 'West', 'West', 'West', 'South', 'South', 'East', 'Central', 'Central', 'South', 'Central', 'Central', 'East', 'South', 'South', 'South', 'South', 'South', 'South', 'Central', 'Central', 'West', 'East', 'East', 'West', 'West', 'Central', 'Central', 'Central', 'Central', 'Central', 'Central', 'West', 'Central', 'Central', 'East', 'East', 'East', 'East', 'Central', 'West', 'West', 'East', 'West', 'East', 'East', 'West', 'West', 'West', 'West', 'West', 'East', 'East', 'Central', 'West', 'West', 'South', 'East', 'East', 'East', 'East', 'Central', 'West', 'South', 'South', 'East', 'East', 'West', 'West', 'South', 'West', 'South', 'West', 'Central', 'South', 'South', 'South', 'South', 'Central', 'West', 'West', 'West', 'Central', 'South', 'South', 'West', 'East', 'West', 'Central', 'Central', 'South', 'South', 'South', 'South', 'East', 'Central', 'East', 'East', 'East', 'Central', 'Central', 'West', 'West', 'West', 'West', 'West', 'West', 'West', 'West', 'South', 'South', 'West', 'West', 'West', 'West', 'West', 'West', 'West', 'Central', 'Central', 'Central', 'Central', 'Central', 'East', 'East', 'East', 'East', 'East', 'East', 'East', 'East', 'East', 'East', 'East', 'East', 'Central', 'Central', 'Central', 'Central', 'Central', 'Central', 'Central', 'Central', 'East', 'East', 'East', 'Central', 'Central', 'Central', 'Central', 'Central', 'Central', 'South', 'South', 'South', 'West', 'West', 'West', 'South', 'Central', 'West', 'West', 'West', 'East', 'Central', 'Central', 'Central', 'Central', 'East', 'West', 'West', 'West', 'Central', 'Central', 'South', 'South', 'South', 'West', 'West', 'South', 'South', 'Central', 'Central', 'Central', 'Central', 'South', 'South', 'South', 'Central', 'Central', 'South', 'South', 'South', 'West', 'West', 'West', 'West', 'East', 'East', 'East', 'East', 'West', 'West', 'West', 'West', 'East', 'East', 'East', 'East', 'Central', 'Central', 'Central', 'Central', 'West', 'West', 'West', 'West', 'West', 'West', 'West', 'East', 'Central', 'East', 'East', 'East', 'East', 'East', 'East', 'East', 'East', 'East', 'Central', 'Central', 'Central', 'Central', 'Central', 'West', 'West', 'West', 'West', 'West', 'West', 'West', 'West', 'West', 'West', 'West', 'East', 'West', 'West', 'West', 'West', 'West', 'East', 'East', 'East', 'West', 'West', 'West', 'West', 'Central', 'East', 'East', 'East', 'East', 'East', 'West', 'East', 'East', 'Central', 'West', 'South', 'South', 'South', 'South', 'West', 'West', 'West', 'West', 'West', 'East', 'East', 'South', 'Central', 'West', 'West', 'West', 'West', 'West', 'West', 'West', 'West', 'West', 'East', 'West', 'West', 'West', 'South', 'West', 'Central', 'Central', 'East', 'East', 'East', 'East', 'East', 'East', 'East', 'East', 'East', 'East', 'East', 'East', 'Central', 'Central', 'East', 'East', 'East', 'East', 'East', 'East', 'East', 'East', 'East', 'East', 'West', 'East', 'Central', 'Central', 'East', 'East', 'Central', 'West', 'Central', 'Central', 'South', 'Central', 'East', 'West', 'West', 'Central', 'Central', 'Central', 'Central', 'Central', 'East', 'East', 'East', 'Central', 'West', 'Central', 'Central', 'West', 'West', 'West', 'West', 'East', 'East', 'East', 'East', 'East', 'East', 'West', 'South', 'Central', 'Central', 'Central', 'West', 'West', 'West', 'West', 'West', 'West', 'South', 'South', 'East', 'East', 'South', 'South', 'West', 'West', 'East', 'South', 'Central', 'Central', 'East', 'East', 'East', 'Central', 'East', 'West', 'West', 'West', 'West', 'South', 'West', 'West', 'West', 'East', 'East', 'East', 'East', 'West', 'Central', 'Central', 'East', 'West', 'West', 'Central', 'Central', 'West', 'East', 'Central', 'Central', 'West', 'Central', 'West', 'West', 'East', 'West', 'West', 'West', 'West', 'West', 'West', 'West', 'West', 'West', 'West', 'West', 'West', 'West', 'East', 'East', 'West', 'West', 'West', 'West', 'East', 'South', 'South', 'South', 'South', 'South', 'West', 'East', 'East', 'South', 'West', 'West', 'West', 'West', 'West', 'South', 'South', 'South', 'West', 'West', 'West', 'East', 'Central', 'Central', 'South', 'South', 'East', 'West', 'West', 'South', 'South', 'South', 'East', 'East', 'East', 'East', 'East', 'East', 'East', 'Central', 'Central', 'South', 'South', 'South', 'Central', 'Central', 'East', 'West', 'West', 'West', 'West', 'West', 'Central', 'Central', 'Central', 'Central', 'Central', 'Central', 'South', 'West', 'South', 'South', 'South', 'South', 'East', 'East', 'East', 'West', 'East', 'West', 'West', 'Central', 'Central', 'South', 'East', 'East', 'East', 'East', 'East', 'South', 'East', 'East', 'Central', 'Central', 'Central', 'Central', 'Central', 'West', 'West', 'West', 'West', 'West', 'West', 'West', 'West', 'West', 'East', 'East', 'East', 'East', 'East', 'East', 'South', 'South', 'South', 'West', 'East', 'East', 'East', 'East', 'Central', 'Central', 'Central', 'Central', 'South', 'East', 'East', 'West', 'East', 'East', 'East', 'West', 'West', 'West', 'West', 'West', 'West', 'West', 'East', 'East', 'East', 'East', 'East', 'East', 'East', 'East', 'West', 'West', 'South', 'South', 'Central', 'Central', 'Central', 'West', 'West', 'West', 'West', 'West', 'West', 'East', 'West', 'West', 'West', 'Central', 'East', 'West', 'West', 'West', 'West', 'West', 'Central', 'Central', 'East', 'East', 'East', 'East', 'Central', 'Central', 'Central', 'West', 'West', 'East', 'Central', 'South', 'South', 'West', 'West', 'West', 'South', 'East', 'East', 'East', 'East', 'East', 'East', 'West', 'East', 'South', 'West', 'East', 'East', 'East', 'East', 'East', 'East', 'East', 'East', 'East', 'East', 'West', 'West', 'East', 'East', 'East', 'East', 'South', 'South', 'South', 'South', 'South', 'South', 'South', 'West', 'West', 'West', 'West', 'West', 'East', 'Central', 'Central', 'West', 'West', 'West', 'West', 'West', 'East', 'East', 'East', 'East', 'East', 'West', 'East', 'Central', 'Central', 'Central', 'West', 'West', 'West', 'South', 'Central', 'Central', 'Central', 'West', 'West', 'West', 'West', 'Central', 'West', 'West', 'Central', 'South', 'South', 'Central', 'Central', 'East', 'Central', 'East', 'Central', 'Central', 'Central', 'Central', 'Central', 'Central', 'Central', 'Central', 'Central', 'Central', 'Central', 'South', 'South', 'South', 'South', 'South', 'East', 'West', 'East', 'East', 'East', 'West', 'West', 'West', 'East', 'East', 'East', 'West', 'West', 'West', 'West', 'West', 'West', 'South', 'South', 'South', 'South', 'East', 'Central', 'South', 'West', 'West', 'West', 'South', 'South', 'East', 'East', 'South', 'West', 'West', 'East', 'East', 'East', 'Central', 'Central', 'Central', 'South', 'South', 'South', 'South', 'South', 'South', 'South', 'South', 'South', 'South', 'South', 'Central', 'East', 'East', 'West', 'West', 'Central', 'Central', 'South', 'South', 'Central', 'Central', 'Central', 'Central', 'Central', 'East', 'East', 'East', 'East', 'East', 'East', 'South', 'West', 'Central', 'Central', 'Central', 'Central', 'Central', 'Central', 'West', 'West', 'West', 'West', 'West', 'West', 'West', 'West', 'West', 'Central', 'East', 'East', 'East', 'East', 'East', 'East', 'East', 'Central', 'West', 'West', 'West', 'South', 'South', 'West', 'East', 'East', 'East', 'East', 'South', 'Central', 'South', 'South', 'Central', 'Central', 'Central', 'Central', 'Central', 'West', 'West', 'West', 'West', 'West', 'West', 'West', 'West', 'West', 'West', 'East', 'East', 'Central', 'South', 'South', 'South', 'Central', 'Central', 'West', 'West', 'East', 'East', 'East', 'East', 'West', 'South', 'South', 'West', 'West', 'Central', 'Central', 'Central', 'Central', 'Central', 'West', 'South', 'South', 'Central', 'West', 'Central', 'East', 'West', 'West', 'West', 'South', 'East', 'South', 'South', 'South', 'South', 'South', 'South', 'South', 'East', 'East', 'West', 'West', 'West', 'West', 'West', 'South', 'East', 'East', 'South', 'West', 'East', 'South', 'East', 'West', 'Central', 'South', 'South', 'South', 'West', 'West', 'East', 'East', 'East', 'East', 'West', 'West', 'West', 'East', 'East', 'West', 'East', 'East', 'East', 'East', 'South', 'South', 'East', 'West', 'West', 'West', 'South', 'East', 'Central', 'South', 'West', 'West', 'West', 'West', 'West', 'West', 'West', 'West', 'East', 'South', 'South', 'West', 'West', 'West', 'East', 'East', 'East', 'East', 'East', 'Central', 'Central', 'Central', 'Central', 'South', 'Central', 'East', 'West', 'West', 'West', 'South', 'South', 'East', 'Central', 'Central', 'East', 'East', 'West', 'West', 'Central', 'Central', 'Central', 'Central', 'Central', 'Central', 'West', 'West', 'West', 'West', 'South', 'South', 'South', 'South', 'West', 'West', 'West', 'West', 'Central', 'West', 'West', 'West', 'West', 'Central', 'Central', 'Central', 'Central', 'Central', 'East', 'East', 'East', 'East', 'West', 'West', 'West', 'Central', 'Central', 'Central', 'Central', 'Central', 'Central', 'East', 'East', 'East', 'West', 'West', 'South', 'South', 'West', 'West', 'West', 'South', 'East', 'South', 'South', 'Central', 'East', 'Central', 'East', 'Central', 'South', 'South', 'South', 'East', 'Central', 'East', 'East', 'East', 'Central', 'West', 'South', 'South', 'South', 'South', 'South', 'South', 'West', 'West', 'West', 'West', 'East', 'East', 'South', 'West', 'West', 'West', 'West', 'East', 'West', 'West', 'East', 'East', 'East', 'East', 'East', 'Central', 'West', 'West', 'West', 'West', 'West', 'West', 'West', 'South', 'South', 'East', 'East', 'East', 'East', 'East', 'South', 'Central', 'East', 'East', 'South', 'Central', 'Central', 'Central', 'West', 'Central', 'Central', 'Central', 'West', 'South', 'East', 'East', 'East', 'Central', 'Central', 'Central', 'Central', 'East', 'East', 'East', 'West', 'Central', 'Central', 'East', 'East', 'South', 'Central', 'South', 'Central', 'West', 'West', 'West', 'West', 'West', 'West', 'West', 'West', 'West', 'West', 'Central', 'Central', 'Central', 'West', 'West', 'West', 'West', 'West', 'West', 'West', 'West', 'West', 'West', 'West', 'West', 'East', 'East', 'East', 'West', 'West', 'West', 'West', 'West', 'West', 'West', 'West', 'Central', 'Central', 'South', 'South', 'South', 'South', 'South', 'Central', 'Central', 'Central', 'East', 'East', 'South', 'East', 'East', 'West', 'West', 'West', 'West', 'South', 'South', 'South', 'West', 'West', 'West', 'West', 'East', 'Central', 'West', 'West', 'East', 'East', 'East', 'East', 'East', 'East', 'Central', 'East', 'East', 'Central', 'East', 'West', 'South', 'East', 'West', 'West', 'West', 'West', 'West', 'East', 'Central', 'Central', 'Central', 'West', 'West', 'West', 'West', 'Central', 'East', 'East', 'East', 'West', 'South', 'West', 'Central', 'Central', 'West', 'East', 'South', 'South', 'South', 'South', 'South', 'West', 'South', 'West', 'West', 'West', 'East', 'Central', 'Central', 'West', 'South', 'South', 'West', 'West', 'West', 'Central', 'Central', 'Central', 'West', 'West', 'West', 'West', 'East', 'Central', 'East', 'East', 'West', 'West', 'West', 'West', 'West', 'East', 'East', 'East', 'East', 'West', 'West', 'Central', 'Central', 'Central', 'West', 'West', 'West', 'South', 'South', 'East', 'Central', 'Central', 'Central', 'Central', 'South', 'South', 'East', 'East', 'East', 'Central', 'Central', 'Central', 'Central', 'Central', 'Central', 'East', 'East', 'East', 'East', 'East', 'East', 'Central', 'Central', 'Central', 'Central', 'Central', 'Central', 'Central', 'West', 'West', 'West', 'West', 'West', 'West', 'South', 'South', 'South', 'South', 'South', 'South', 'South', 'South', 'East', 'East', 'West', 'West', 'West', 'West', 'East', 'East', 'Central', 'Central', 'Central', 'Central', 'Central', 'Central', 'East', 'Central', 'East', 'East', 'Central', 'West', 'West', 'West', 'East', 'West', 'East', 'East', 'East', 'East', 'Central', 'West', 'East', 'East', 'South', 'South', 'Central', 'West', 'West', 'West', 'West', 'West', 'West', 'Central', 'South', 'South', 'South', 'Central', 'Central', 'Central', 'Central', 'West', 'West', 'East', 'East', 'East', 'East', 'East', 'East', 'East', 'East', 'Central', 'Central', 'East', 'West', 'West', 'Central', 'East', 'Central', 'Central', 'Central', 'South', 'East', 'West', 'South', 'East', 'East', 'East', 'West', 'West', 'West', 'West', 'West', 'West', 'West', 'West', 'Central', 'Central', 'Central', 'East', 'East', 'West', 'West', 'East', 'East', 'East', 'East', 'East', 'West', 'West', 'West', 'West', 'West', 'West', 'West', 'East', 'East', 'Central', 'Central', 'Central', 'West', 'East', 'East', 'East', 'Central', 'Central', 'Central', 'South', 'Central', 'Central', 'Central', 'West', 'West', 'West', 'West', 'West', 'Central', 'East', 'Central', 'Central', 'West', 'West', 'South', 'South', 'South', 'Central', 'Central', 'West', 'West', 'West', 'South', 'East', 'East', 'South', 'South', 'Central', 'Central', 'West', 'West', 'West', 'Central', 'Central', 'South', 'South', 'South', 'South', 'South', 'South', 'South', 'East', 'East', 'Central', 'Central', 'West', 'West', 'West', 'West', 'Central', 'West', 'West', 'Central', 'East', 'West', 'West', 'West', 'East', 'East', 'East', 'East', 'East', 'Central', 'Central', 'Central', 'Central', 'Central', 'East', 'East', 'South', 'West', 'West', 'East', 'East', 'Central', 'West', 'West', 'South', 'South', 'South', 'East', 'East', 'Central', 'Central', 'Central', 'Central', 'Central', 'Central', 'Central', 'Central', 'Central', 'Central', 'West', 'West', 'West', 'West', 'West', 'West', 'West', 'East', 'East', 'East', 'East', 'East', 'East', 'West', 'Central', 'West', 'East', 'West', 'West', 'East', 'East', 'East', 'East', 'Central', 'Central', 'Central', 'East', 'East', 'East', 'East', 'Central', 'West', 'Central', 'Central', 'West', 'West', 'Central', 'West', 'West', 'East', 'East', 'East', 'East', 'Central', 'Central', 'Central', 'East', 'South', 'East', 'East', 'East', 'South', 'South', 'South', 'South', 'South', 'Central', 'West', 'West', 'Central', 'East', 'Central', 'Central', 'Central', 'South', 'South', 'South', 'South', 'Central', 'Central', 'West', 'East', 'East', 'East', 'East', 'East', 'West', 'West', 'West', 'West', 'West', 'Central', 'Central', 'West', 'West', 'East', 'West', 'West', 'West', 'West', 'West', 'Central', 'Central', 'East', 'East', 'East', 'West', 'West', 'West', 'West', 'West', 'Central', 'Central', 'Central', 'Central', 'Central', 'West', 'East', 'East', 'East', 'East', 'East', 'East', 'South', 'West', 'West', 'West', 'West', 'South', 'South', 'South', 'South', 'East', 'East', 'East', 'East', 'East', 'Central', 'East', 'South', 'South', 'East', 'East', 'East', 'South', 'South', 'West', 'East', 'East', 'Central', 'Central', 'Central', 'Central', 'West', 'West', 'West', 'West', 'South', 'South', 'South', 'South', 'East', 'South', 'South', 'Central', 'Central', 'Central', 'Central', 'Central', 'Central', 'Central', 'Central', 'West', 'West', 'West', 'South', 'South', 'South', 'Central', 'Central', 'East', 'Central', 'Central', 'Central', 'Central', 'Central', 'Central', 'Central', 'Central', 'Central', 'Central', 'South', 'South', 'South', 'South', 'Central', 'West', 'Central', 'Central', 'West', 'Central', 'South', 'South', 'South', 'West', 'South', 'Central', 'East', 'West', 'West', 'West', 'West', 'East', 'South', 'South', 'South', 'South', 'East', 'East', 'East', 'Central', 'Central', 'South', 'South', 'South', 'South', 'Central', 'Central', 'Central', 'East', 'West', 'West', 'West', 'West', 'West', 'West', 'East', 'East', 'East', 'East', 'West', 'West', 'Central', 'Central', 'West', 'West', 'West', 'West', 'Central', 'East', 'East', 'South', 'West', 'West', 'South', 'South', 'South', 'Central', 'Central', 'Central', 'Central', 'Central', 'West', 'East', 'South', 'South', 'South', 'Central', 'East', 'East', 'East', 'East', 'East', 'East', 'East', 'East', 'West', 'East', 'East', 'East', 'East', 'East', 'East', 'East', 'East', 'East', 'East', 'Central', 'East', 'East', 'Central', 'Central', 'East', 'West', 'West', 'West', 'South', 'South', 'South', 'South', 'West', 'West', 'West', 'West', 'West', 'East', 'East', 'West', 'West', 'East', 'East', 'East', 'East', 'East', 'East', 'East', 'East', 'East', 'West', 'West', 'West', 'West', 'West', 'West', 'South', 'South', 'Central', 'Central', 'Central', 'Central', 'Central', 'South', 'East', 'South', 'South', 'South', 'West', 'Central', 'East', 'East', 'West', 'West', 'West', 'West', 'West', 'West', 'West', 'West', 'East', 'East', 'East', 'East', 'West', 'East', 'East', 'East', 'East', 'East', 'East', 'East', 'East', 'East', 'West', 'South', 'West', 'West', 'West', 'West', 'West', 'West', 'South', 'South', 'South', 'West', 'West', 'East', 'East', 'East', 'South', 'South', 'South', 'South', 'Central', 'Central', 'Central', 'Central', 'West', 'West', 'West', 'West', 'West', 'West', 'Central', 'South', 'South', 'Central', 'South', 'South', 'Central', 'West', 'Central', 'West', 'East', 'East', 'East', 'East', 'East', 'East', 'East', 'East', 'East', 'East', 'East', 'East', 'Central', 'Central', 'Central', 'East', 'East', 'East', 'South', 'South', 'South', 'West', 'West', 'West', 'West', 'West', 'West', 'West', 'West', 'Central', 'Central', 'East', 'West', 'West', 'West', 'East', 'Central', 'Central', 'Central', 'Central', 'Central', 'Central', 'South', 'South', 'West', 'East', 'South', 'South', 'South', 'South', 'South', 'West', 'South', 'East', 'Central', 'East', 'South', 'South', 'South', 'East', 'West', 'Central', 'Central', 'Central', 'West', 'East', 'East', 'East', 'West', 'West', 'West', 'South', 'South', 'South', 'South', 'South', 'South', 'South', 'South', 'South', 'South', 'South', 'South', 'South', 'South', 'South', 'Central', 'Central', 'South', 'South', 'South', 'South', 'South', 'East', 'East', 'East', 'East', 'East', 'East', 'East', 'Central', 'Central', 'Central', 'Central', 'Central', 'East', 'East', 'East', 'East', 'West', 'West', 'West', 'West', 'West', 'West', 'South', 'West', 'West', 'West', 'West', 'West', 'Central', 'South', 'South', 'Central', 'East', 'Central', 'West', 'West', 'Central', 'Central', 'Central', 'West', 'Central', 'Central', 'East', 'East', 'West', 'Central', 'West', 'Central', 'West', 'West', 'West', 'West', 'West', 'West', 'South', 'South', 'South', 'South', 'South', 'Central', 'Central', 'West', 'West', 'West', 'West', 'South', 'Central', 'Central', 'South', 'South', 'South', 'West', 'West', 'West', 'Central', 'Central', 'South', 'Central', 'Central', 'Central', 'East', 'Central', 'East', 'West', 'East', 'East', 'East', 'East', 'East', 'East', 'East', 'East', 'Central', 'East', 'East', 'West', 'West', 'West', 'West', 'West', 'South', 'South', 'Central', 'Central', 'Central', 'West', 'West', 'West', 'West', 'Central', 'Central', 'Central', 'East', 'East', 'West', 'West', 'West', 'Central', 'Central', 'Central', 'Central', 'East', 'East', 'South', 'East', 'West', 'South', 'South', 'Central', 'Central', 'Central', 'Central', 'East', 'West', 'East', 'Central', 'Central', 'West', 'South', 'South', 'South', 'Central', 'Central', 'West', 'West', 'East', 'South', 'East', 'West', 'Central', 'Central', 'West', 'Central', 'East', 'East', 'East', 'East', 'South', 'West', 'West', 'East', 'East', 'West', 'West', 'West', 'West', 'West', 'East', 'East', 'South', 'East', 'East', 'South', 'South', 'South', 'Central', 'Central', 'Central', 'Central', 'Central', 'South', 'West', 'West', 'Central', 'Central', 'Central', 'South', 'South', 'South', 'West', 'West', 'East', 'East', 'Central', 'South', 'South', 'South', 'South', 'South', 'South', 'South', 'East', 'East', 'East', 'West', 'West', 'Central', 'Central', 'Central', 'Central', 'South', 'South', 'West', 'West', 'West', 'East', 'East', 'Central', 'West', 'West', 'West', 'West', 'West', 'West', 'West', 'West', 'Central', 'Central', 'East', 'East', 'East', 'East', 'East', 'East', 'East', 'East', 'East', 'East', 'Central', 'West', 'West', 'Central', 'West', 'East', 'South', 'South', 'South', 'South', 'South', 'South', 'Central', 'Central', 'Central', 'Central', 'Central', 'South', 'South', 'Central', 'Central', 'Central', 'South', 'West', 'West', 'Central', 'Central', 'West', 'West', 'West', 'West', 'South', 'East', 'East', 'East', 'East', 'South', 'South', 'South', 'Central', 'Central', 'Central', 'Central', 'Central', 'Central', 'Central', 'Central', 'West', 'West', 'Central', 'East', 'East', 'Central', 'Central', 'Central', 'Central', 'Central', 'Central', 'West', 'West', 'West', 'West', 'West', 'East', 'West', 'West', 'West', 'East', 'South', 'South', 'South', 'South', 'West', 'Central', 'South', 'South', 'South', 'South', 'West', 'West', 'South', 'Central', 'East', 'East', 'Central', 'Central', 'West', 'West', 'West', 'East', 'Central', 'Central', 'Central', 'Central', 'East', 'East', 'East', 'South', 'South', 'East', 'East', 'Central', 'South', 'East', 'East', 'East', 'East', 'West', 'West', 'East', 'West', 'West', 'West', 'West', 'West', 'South', 'South', 'South', 'West', 'South', 'South', 'West', 'West', 'Central', 'East', 'East', 'East', 'East', 'East', 'Central', 'Central', 'Central', 'Central', 'East', 'Central', 'West', 'West', 'West', 'West', 'East', 'East', 'East', 'East', 'East', 'East', 'East', 'East', 'East', 'East', 'East', 'East', 'East', 'East', 'Central', 'South', 'South', 'South', 'Central', 'East', 'West', 'West', 'West', 'West', 'West', 'West', 'West', 'West', 'Central', 'Central', 'Central', 'West', 'Central', 'Central', 'Central', 'Central', 'Central', 'Central', 'East', 'East', 'Central', 'East', 'West', 'Central', 'West', 'West', 'South', 'South', 'West', 'East', 'East', 'East', 'East', 'East', 'East', 'South', 'South', 'South', 'Central', 'Central', 'Central', 'West', 'West', 'East', 'East', 'Central', 'South', 'East', 'Central', 'Central', 'Central', 'Central', 'Central', 'West', 'South', 'East', 'West', 'West', 'West', 'Central', 'West', 'East', 'East', 'East', 'East', 'East', 'Central', 'Central', 'Central', 'Central', 'Central', 'South', 'Central', 'Central', 'West', 'West', 'West', 'East', 'West', 'West', 'West', 'South', 'South', 'South', 'South', 'South', 'East', 'Central', 'West', 'West', 'West', 'West', 'West', 'West', 'West', 'West', 'West', 'East', 'West', 'West', 'West', 'West', 'South', 'West', 'West', 'East', 'East', 'East', 'East', 'East', 'East', 'East', 'East', 'South', 'South', 'West', 'West', 'South', 'South', 'West', 'West', 'West', 'West', 'South', 'Central', 'South', 'West', 'West', 'West', 'West', 'East', 'East', 'West', 'West', 'East', 'East', 'West', 'West', 'South', 'South', 'South', 'Central', 'Central', 'Central', 'East', 'South', 'Central', 'Central', 'Central', 'Central', 'Central', 'Central', 'Central', 'Central', 'Central', 'Central', 'Central', 'Central', 'East', 'West', 'West', 'West', 'South', 'South', 'West', 'West', 'Central', 'Central', 'Central', 'Central', 'West', 'West', 'East', 'East', 'East', 'East', 'Central', 'Central', 'East', 'East', 'West', 'East', 'East', 'East', 'East', 'East', 'West', 'East', 'East', 'East', 'Central', 'Central', 'Central', 'West', 'West', 'East', 'East', 'East', 'East', 'West', 'West', 'Central', 'East', 'East', 'Central', 'South', 'South', 'South', 'South', 'South', 'South', 'West', 'Central', 'East', 'South', 'South', 'South', 'South', 'South', 'Central', 'Central', 'Central', 'Central', 'Central', 'Central', 'Central', 'Central', 'Central', 'Central', 'Central', 'Central', 'Central', 'West', 'West', 'West', 'West', 'West', 'West', 'West', 'West', 'West', 'West', 'West', 'West', 'West', 'West', 'West', 'West', 'West', 'West', 'East', 'East', 'East', 'East', 'East', 'East', 'East', 'East', 'East', 'East', 'East', 'Central', 'Central', 'East', 'West', 'West', 'West', 'West', 'West', 'West', 'West', 'Central', 'Central', 'Central', 'West', 'East', 'East', 'East', 'East', 'West', 'West', 'East', 'West', 'West', 'West', 'Central', 'Central', 'West', 'West', 'West', 'West', 'West', 'West', 'West', 'Central', 'Central', 'West', 'Central', 'South', 'Central', 'West', 'West', 'West', 'South', 'Central', 'Central', 'West', 'East', 'East', 'East', 'East', 'East', 'East', 'Central', 'East', 'East', 'West', 'West', 'West', 'West', 'West', 'West', 'West', 'East', 'East', 'Central', 'Central', 'Central', 'Central', 'Central', 'Central', 'Central', 'Central', 'Central', 'East', 'West', 'West', 'West', 'Central', 'South', 'South', 'West', 'Central', 'Central', 'West', 'West', 'West', 'South', 'West', 'South', 'South', 'South', 'Central', 'West', 'Central', 'Central', 'West', 'Central', 'Central', 'Central', 'Central', 'West', 'South', 'East', 'South', 'East', 'East', 'West', 'West', 'West', 'West', 'West', 'West', 'West', 'West', 'West', 'West', 'West', 'West', 'West', 'East', 'Central', 'Central', 'East', 'East', 'East', 'South', 'South', 'South', 'South', 'East', 'East', 'East', 'East', 'West', 'South', 'South', 'South', 'Central', 'Central', 'Central', 'East', 'East', 'West', 'West', 'East', 'South', 'South', 'South', 'South', 'East', 'East', 'East', 'East', 'Central', 'West', 'West', 'West', 'West', 'West', 'West', 'West', 'West', 'South', 'South', 'West', 'West', 'West', 'West', 'East', 'South', 'East', 'West', 'West', 'West', 'West', 'East', 'East', 'West', 'Central', 'East', 'East', 'East', 'East', 'East', 'East', 'East', 'South', 'South', 'South', 'West', 'West', 'Central', 'Central', 'Central', 'Central', 'Central', 'Central', 'Central', 'East', 'West', 'West', 'West', 'West', 'West', 'East', 'South', 'East', 'East', 'East', 'East', 'Central', 'East', 'West', 'West', 'West', 'West', 'West', 'Central', 'Central', 'Central', 'Central', 'Central', 'Central', 'Central', 'Central', 'Central', 'Central', 'East', 'East', 'East', 'West', 'West', 'West', 'West', 'East', 'Central', 'Central', 'West', 'West', 'West', 'East', 'West', 'West', 'West', 'Central', 'West', 'South', 'South', 'South', 'East', 'East', 'West', 'Central', 'West', 'West', 'West', 'West', 'East', 'East', 'East', 'East', 'West', 'West', 'West', 'West', 'West', 'Central', 'Central', 'Central', 'Central', 'West', 'West', 'West', 'West', 'South', 'South', 'Central', 'South', 'South', 'East', 'Central', 'East', 'East', 'East', 'East', 'East', 'West', 'West', 'East', 'Central', 'Central', 'South', 'West', 'West', 'West', 'Central', 'Central', 'Central', 'West', 'East', 'East', 'East', 'East', 'Central', 'Central', 'Central', 'Central', 'West', 'West', 'West', 'West', 'West', 'West', 'West', 'West', 'West', 'East', 'West', 'South', 'South', 'South', 'South', 'South', 'South', 'South', 'South', 'East', 'East', 'West', 'West', 'West', 'East', 'Central', 'Central', 'East', 'East', 'East', 'West', 'East', 'East', 'East', 'East', 'East', 'Central', 'Central', 'West', 'East', 'East', 'East', 'West', 'South', 'South', 'East', 'Central', 'Central', 'Central', 'Central', 'West', 'West', 'West', 'East', 'East', 'East', 'South', 'East', 'South', 'East', 'West', 'East', 'West', 'West', 'West', 'West', 'West', 'West', 'West', 'West', 'West', 'West', 'West', 'West', 'West', 'Central', 'East', 'Central', 'East', 'East', 'East', 'West', 'West', 'West', 'West', 'East', 'East', 'Central', 'Central', 'Central', 'Central', 'East', 'South', 'South', 'South', 'South', 'South', 'South', 'South', 'West', 'West', 'Central', 'South', 'South', 'South', 'South', 'West', 'West', 'West', 'West', 'West', 'West', 'West', 'East', 'East', 'West', 'West', 'West', 'East', 'East', 'Central', 'East', 'East', 'East', 'East', 'South', 'South', 'South', 'South', 'South', 'West', 'West', 'Central', 'Central', 'East', 'East', 'Central', 'South', 'South', 'South', 'South', 'East', 'Central', 'East', 'East', 'East', 'East', 'West', 'West', 'West', 'West', 'West', 'South', 'West', 'West', 'West', 'East', 'East', 'East', 'Central', 'West', 'West', 'West', 'West', 'West', 'West', 'East', 'Central', 'West', 'East', 'West', 'West', 'West', 'Central', 'Central', 'West', 'West', 'West', 'West', 'West', 'South', 'South', 'East', 'East', 'East', 'East', 'South', 'South', 'South', 'South', 'West', 'South', 'East', 'East', 'East', 'Central', 'Central', 'Central', 'West', 'West', 'South', 'East', 'West', 'West', 'West', 'West', 'West', 'Central', 'South', 'South', 'South', 'East', 'South', 'South', 'West', 'West', 'West', 'South', 'South', 'West', 'South', 'Central', 'East', 'East', 'East', 'East', 'East', 'West', 'East', 'East', 'East', 'East', 'East', 'West', 'West', 'West', 'East', 'West', 'West', 'West', 'Central', 'Central', 'Central', 'Central', 'Central', 'West', 'West', 'West', 'East', 'East', 'Central', 'West', 'West', 'Central', 'East', 'East', 'East', 'West', 'West', 'West', 'West', 'West', 'West', 'West', 'Central', 'Central', 'West', 'East', 'South', 'Central', 'Central', 'Central', 'West', 'West', 'East', 'South', 'South', 'Central', 'Central', 'Central', 'East', 'South', 'South', 'West', 'Central', 'Central', 'Central', 'Central', 'Central', 'West', 'West', 'Central', 'Central', 'Central', 'Central', 'West', 'West', 'East', 'South', 'South', 'East', 'Central', 'East', 'East', 'East', 'West', 'West', 'West', 'East', 'Central', 'Central', 'Central', 'Central', 'Central', 'Central', 'West', 'Central', 'Central', 'Central', 'East', 'East', 'South', 'South', 'South', 'South', 'East', 'East', 'East', 'Central', 'Central', 'West', 'East', 'East', 'East', 'East', 'East', 'South', 'South', 'South', 'South', 'East', 'East', 'East', 'East', 'East', 'East', 'East', 'West', 'South', 'East', 'East', 'West', 'West', 'Central', 'East', 'East', 'West', 'East', 'East', 'East', 'West', 'West', 'West', 'West', 'West', 'East', 'West', 'West', 'East', 'East', 'Central', 'Central', 'Central', 'Central', 'Central', 'West', 'West', 'West', 'Central', 'West', 'Central', 'Central', 'Central', 'Central', 'Central', 'Central', 'Central', 'Central', 'Central', 'West', 'Central', 'Central', 'West', 'East', 'West', 'West', 'West', 'East', 'East', 'South', 'South', 'South', 'East', 'Central', 'Central', 'Central', 'Central', 'West', 'South', 'South', 'South', 'South', 'West', 'West', 'Central', 'Central', 'Central', 'Central', 'West', 'West', 'East', 'East', 'East', 'East', 'East', 'East', 'East', 'East', 'West', 'West', 'West', 'West', 'Central', 'West', 'East', 'Central', 'Central', 'Central', 'Central', 'Central', 'West', 'East', 'East', 'East', 'West', 'West', 'West', 'West', 'West', 'South', 'West', 'Central', 'East', 'East', 'East', 'West', 'West', 'West', 'Central', 'South', 'West', 'West', 'West', 'Central', 'West', 'East', 'South', 'South', 'South', 'West', 'East', 'East', 'Central', 'West', 'West', 'East', 'Central', 'Central', 'Central', 'Central', 'Central', 'West', 'West', 'West', 'East', 'West', 'West', 'West', 'West', 'South', 'East', 'South', 'South', 'Central', 'South', 'Central', 'Central', 'Central', 'Central', 'West', 'West', 'West', 'West', 'West', 'West', 'Central', 'Central', 'Central', 'South', 'East', 'Central', 'Central', 'East', 'East', 'West', 'West', 'South', 'South', 'South', 'Central', 'Central', 'East', 'East', 'East', 'Central', 'Central', 'Central', 'South', 'South', 'West', 'West', 'South', 'South', 'South', 'South', 'South', 'South', 'South', 'South', 'Central', 'West', 'West', 'East', 'West', 'Central', 'East', 'East', 'East', 'East', 'East', 'East', 'East', 'West', 'West', 'East', 'East', 'East', 'East', 'Central', 'Central', 'East', 'West', 'West', 'West', 'Central', 'Central', 'Central', 'Central', 'Central', 'South', 'West', 'West', 'West', 'West', 'West', 'West', 'South', 'Central', 'Central', 'Central', 'West', 'Central', 'West', 'West', 'West', 'East', 'Central', 'Central', 'Central', 'Central', 'Central', 'West', 'West', 'East', 'East', 'West', 'West', 'Central', 'Central', 'Central', 'East', 'East', 'South', 'West', 'West', 'West', 'West', 'East', 'East', 'East', 'East', 'West', 'West', 'West', 'East', 'West', 'West', 'West', 'East', 'East', 'West', 'West', 'West', 'West', 'West', 'West', 'West', 'West', 'West', 'Central', 'Central', 'Central', 'Central', 'Central', 'Central', 'Central', 'East', 'East', 'West', 'South', 'East', 'West', 'West', 'West', 'West', 'South', 'East', 'East', 'East', 'West', 'West', 'West', 'South', 'South', 'South', 'East', 'South', 'West', 'East', 'East', 'East', 'Central', 'East', 'East', 'Central', 'Central', 'Central', 'Central', 'West', 'Central', 'East', 'East', 'West', 'West', 'West', 'West', 'South', 'West', 'West', 'West', 'West', 'West', 'Central', 'West', 'West', 'West', 'East', 'West', 'West', 'West', 'Central', 'Central', 'Central', 'Central', 'East', 'South', 'West', 'West', 'West', 'West', 'South', 'South', 'Central', 'South', 'South', 'South', 'South', 'Central', 'West', 'West', 'West', 'East', 'East', 'East', 'East', 'East', 'East', 'East', 'East', 'East', 'East', 'East', 'West', 'South', 'West', 'Central', 'Central', 'West', 'West', 'East', 'East', 'East', 'South', 'East', 'East', 'East', 'East', 'East', 'West', 'West', 'West', 'West', 'West', 'East', 'South', 'Central', 'Central', 'South', 'South', 'South', 'South', 'South', 'South', 'South', 'Central', 'Central', 'Central', 'Central', 'West', 'West', 'West', 'East', 'West', 'West', 'West', 'West', 'Central', 'Central', 'Central', 'Central', 'Central', 'South', 'South', 'South', 'West', 'West', 'West', 'South', 'South', 'South', 'Central', 'Central', 'Central', 'Central', 'Central', 'Central', 'Central', 'East', 'East', 'East', 'East', 'East', 'West', 'West', 'West', 'West', 'West', 'East', 'East', 'West', 'East', 'East', 'East', 'West', 'West', 'West', 'West', 'East', 'East', 'East', 'East', 'East', 'East', 'East', 'East', 'East', 'East', 'East', 'Central', 'Central', 'East', 'South', 'South', 'East', 'West', 'South', 'East', 'West', 'West', 'East', 'East', 'East', 'East', 'South', 'West', 'Central', 'Central', 'Central', 'Central', 'West', 'West', 'West', 'West', 'South', 'South', 'East', 'South', 'South', 'South', 'East', 'Central', 'West', 'West', 'Central', 'West', 'West', 'East', 'East', 'South', 'South', 'West', 'East', 'South', 'West', 'West', 'West', 'West', 'West', 'East', 'West', 'West', 'West', 'West', 'West', 'West', 'West', 'West', 'West', 'West', 'East', 'East', 'East', 'East', 'West', 'West', 'West', 'West', 'West', 'Central', 'Central', 'West', 'West', 'West', 'Central', 'Central', 'Central', 'Central', 'Central', 'South', 'South', 'South', 'West', 'South', 'South', 'South', 'Central', 'East', 'East', 'East', 'East', 'East', 'West', 'Central', 'Central', 'Central', 'West', 'East', 'East', 'East', 'East', 'East', 'East', 'East', 'East', 'East', 'East', 'East', 'East', 'Central', 'East', 'South', 'Central', 'Central', 'Central', 'Central', 'Central', 'West', 'West', 'West', 'West', 'Central', 'East', 'Central', 'Central', 'Central', 'Central', 'Central', 'Central', 'East', 'East', 'East', 'East', 'West', 'West', 'West', 'West', 'West', 'West', 'West', 'West', 'West', 'West', 'South', 'South', 'South', 'East', 'Central', 'West', 'West', 'South', 'South', 'Central', 'Central', 'South', 'South', 'West', 'West', 'West', 'West', 'East', 'West', 'West', 'Central', 'Central', 'East', 'East', 'West', 'West', 'Central', 'Central', 'West', 'West', 'East', 'West', 'West', 'West', 'West', 'West', 'West', 'West', 'West', 'West', 'West', 'West', 'South', 'South', 'West', 'West', 'West', 'West', 'West', 'East', 'East', 'East', 'East', 'Central', 'Central', 'Central', 'West', 'East', 'Central', 'Central', 'South', 'South', 'South', 'South', 'West', 'West', 'West', 'East', 'South', 'East', 'East', 'East', 'East', 'East', 'West', 'West', 'West', 'West', 'East', 'East', 'East', 'East', 'East', 'Central', 'Central', 'West', 'South', 'South', 'South', 'South', 'South', 'West', 'West', 'South', 'South', 'West', 'West', 'West', 'West', 'West', 'West', 'West', 'Central', 'Central', 'Central', 'Central', 'Central', 'South', 'Central', 'Central', 'Central', 'Central', 'West', 'South', 'East', 'South', 'South', 'South', 'East', 'East', 'East', 'East', 'East', 'West', 'West', 'Central', 'South', 'South', 'South', 'East', 'East', 'East', 'East', 'East', 'West', 'West', 'West', 'West', 'West', 'West', 'West', 'East', 'South', 'East', 'Central', 'Central', 'Central', 'South', 'West', 'West', 'West', 'Central', 'Central', 'West', 'West', 'East', 'West', 'West', 'West', 'West', 'West', 'West', 'West', 'West', 'West', 'West', 'South', 'East', 'East', 'East', 'East', 'East', 'East', 'East', 'East', 'East', 'East', 'East', 'South', 'West', 'South', 'South', 'South', 'East', 'East', 'East', 'East', 'East', 'East', 'West', 'West', 'West', 'Central', 'Central', 'West', 'West', 'West', 'West', 'West', 'West', 'West', 'Central', 'South', 'South', 'South', 'South', 'Central', 'East', 'East', 'East', 'West', 'West', 'West', 'West', 'West', 'West', 'West', 'West', 'West', 'West', 'West', 'East', 'West', 'West', 'West', 'West', 'East', 'East', 'South', 'Central', 'Central', 'West', 'Central', 'Central', 'Central', 'Central', 'East', 'East', 'South', 'South', 'South', 'South', 'South', 'South', 'West', 'West', 'West', 'East', 'East', 'East', 'East', 'East', 'West', 'West', 'West', 'West', 'West', 'South', 'West', 'East', 'East', 'South', 'West', 'West', 'West', 'West', 'West', 'West', 'West', 'West', 'West', 'West', 'West', 'East', 'South', 'South', 'Central', 'East', 'East', 'East', 'West', 'West', 'South', 'West', 'South', 'East', 'East', 'West', 'Central', 'Central', 'South', 'South', 'South', 'South', 'West', 'West', 'West', 'South', 'South', 'West', 'Central', 'South', 'South', 'Central', 'Central', 'Central', 'East', 'East', 'East', 'Central', 'Central', 'East', 'East', 'East', 'East', 'East', 'West', 'West', 'West', 'East', 'South', 'West', 'West', 'West', 'East', 'Central', 'Central', 'Central', 'West', 'West', 'East', 'East', 'East', 'East', 'Central', 'Central', 'Central', 'Central', 'Central', 'Central', 'Central', 'West', 'South', 'West', 'East', 'East', 'East', 'East', 'East', 'East', 'East', 'East', 'East', 'East', 'East', 'East', 'East', 'East', 'East', 'South', 'Central', 'Central', 'Central', 'Central', 'East', 'East', 'East', 'East', 'East', 'West', 'East', 'East', 'West', 'West', 'West', 'West', 'Central', 'Central', 'West', 'West', 'West', 'East', 'West', 'South', 'South', 'East', 'South', 'West', 'West', 'Central', 'Central', 'South', 'West', 'West', 'East', 'East', 'East', 'East', 'Central', 'West', 'West', 'West', 'West', 'West', 'South', 'West', 'West', 'East', 'East', 'East', 'East', 'Central', 'Central', 'West', 'South', 'South', 'South', 'South', 'South', 'South', 'South', 'Central', 'West', 'South', 'East', 'East', 'Central', 'Central', 'Central', 'South', 'South', 'South', 'South', 'South', 'South', 'South', 'South', 'South', 'West', 'East', 'East', 'East', 'East', 'Central', 'East', 'West', 'Central', 'Central', 'Central', 'East', 'East', 'Central', 'Central', 'Central', 'Central', 'Central', 'West', 'East', 'East', 'Central', 'Central', 'Central', 'East', 'West', 'West', 'West', 'West', 'West', 'West', 'East', 'East', 'South', 'Central', 'Central', 'Central', 'West', 'South', 'South', 'South', 'West', 'West', 'Central', 'East', 'East', 'Central', 'West', 'West', 'West', 'West', 'West', 'East', 'East', 'West', 'West', 'West', 'East', 'South', 'West', 'West', 'West', 'West', 'Central', 'Central', 'Central', 'Central', 'Central', 'South', 'South', 'South', 'Central', 'South', 'East', 'East', 'Central', 'West', 'East', 'Central', 'South', 'Central', 'South', 'South', 'East', 'East', 'West', 'West', 'West', 'Central', 'West', 'West', 'West', 'West', 'West', 'West', 'West', 'East', 'East', 'East', 'West', 'West', 'East', 'South', 'West', 'West', 'West', 'West', 'South', 'West', 'West', 'East', 'East', 'East', 'East', 'West', 'West', 'Central', 'Central', 'Central', 'Central', 'East', 'West', 'West', 'West', 'West', 'West', 'West', 'West', 'East', 'East', 'Central', 'Central', 'Central', 'Central', 'West', 'West', 'South', 'East', 'Central', 'East', 'West', 'West', 'Central', 'Central', 'Central', 'Central', 'Central', 'Central', 'Central', 'Central', 'East', 'East', 'West', 'West', 'East', 'East', 'East', 'East', 'East', 'East', 'East', 'East', 'East', 'West', 'West', 'West', 'Central', 'South', 'East', 'East', 'East', 'East', 'West', 'West', 'West', 'West', 'West', 'West', 'West', 'West', 'West', 'East', 'East', 'East', 'West', 'Central', 'East', 'East', 'East', 'East', 'South', 'South', 'East', 'West', 'East', 'East', 'West', 'East', 'East', 'Central', 'Central', 'Central', 'Central', 'Central', 'Central', 'South', 'South', 'East', 'East', 'East', 'East', 'East', 'East', 'Central', 'East', 'East', 'East', 'South', 'South', 'South', 'South', 'West', 'West', 'Central', 'Central', 'Central', 'Central', 'Central', 'South', 'South', 'South', 'West', 'East', 'East', 'Central', 'Central', 'Central', 'Central', 'West', 'West', 'East', 'East', 'East', 'East', 'East', 'South', 'South', 'South', 'South', 'Central', 'Central', 'West', 'West', 'West', 'Central', 'East', 'East', 'East', 'East', 'East', 'East', 'Central', 'Central', 'Central', 'Central', 'East', 'East', 'East', 'Central', 'Central', 'West', 'West', 'East', 'East', 'East', 'East', 'East', 'East', 'East', 'East', 'South', 'South', 'West', 'East', 'East', 'East', 'Central', 'Central', 'Central', 'South', 'East', 'South', 'South', 'South', 'South', 'South', 'South', 'South', 'South', 'East', 'East', 'East', 'South', 'South', 'South', 'East', 'East', 'South', 'South', 'South', 'Central', 'Central', 'Central', 'South', 'South', 'South', 'South', 'East', 'East', 'East', 'East', 'Central', 'East', 'East', 'East', 'East', 'East', 'West', 'West', 'West', 'West', 'West', 'West', 'West', 'West', 'West', 'Central', 'Central', 'Central', 'East', 'East', 'East', 'East', 'East', 'East', 'Central', 'Central', 'Central', 'Central', 'Central', 'East', 'East', 'South', 'South', 'East', 'East', 'West', 'West', 'West', 'West', 'East', 'East', 'East', 'Central', 'Central', 'Central', 'East', 'West', 'West', 'Central', 'Central', 'Central', 'Central', 'Central', 'East', 'West', 'West', 'Central', 'East', 'East', 'East', 'East', 'Central', 'Central', 'Central', 'Central', 'Central', 'Central', 'West', 'East', 'East', 'West', 'West', 'South', 'West', 'West', 'West', 'West', 'West', 'South', 'South', 'South', 'South', 'South', 'South', 'South', 'South', 'West', 'West', 'East', 'Central', 'East', 'East', 'South', 'South', 'East', 'East', 'East', 'East', 'West', 'West', 'West', 'West', 'West', 'West', 'East', 'West', 'South', 'South', 'South', 'South', 'West', 'West', 'West', 'Central', 'Central', 'Central', 'Central', 'West', 'West', 'Central', 'Central', 'East', 'West', 'East', 'South', 'West', 'West', 'Central', 'West', 'South', 'South', 'South', 'East', 'East', 'East', 'Central', 'Central', 'Central', 'West', 'West', 'West', 'West', 'West', 'Central', 'Central', 'Central', 'Central', 'Central', 'Central', 'West', 'West', 'West', 'West', 'West', 'West', 'East', 'East', 'East', 'South', 'South', 'Central', 'East', 'East', 'East', 'East', 'South', 'West', 'West', 'South', 'Central', 'Central', 'Central', 'Central', 'West', 'East', 'East', 'East', 'Central', 'West', 'Central', 'Central', 'Central', 'West', 'West', 'Central', 'Central', 'Central', 'South', 'East', 'Central', 'East', 'East', 'East', 'West', 'West', 'West', 'South', 'South', 'West', 'West', 'West', 'South', 'East', 'West', 'West', 'West', 'East', 'Central', 'Central', 'Central', 'Central', 'South', 'South', 'South', 'South', 'West', 'West', 'West', 'East', 'West', 'West', 'West', 'Central', 'South', 'South', 'South', 'South', 'West', 'West', 'South', 'West', 'West', 'West', 'West', 'Central', 'Central', 'Central', 'West', 'East', 'East', 'East', 'East', 'East', 'East', 'East', 'East', 'East', 'East', 'East', 'East', 'East', 'East', 'East', 'East', 'South', 'East', 'East', 'Central', 'Central', 'Central', 'Central', 'Central', 'Central', 'East', 'South', 'West', 'West', 'West', 'West', 'West', 'East', 'Central', 'East', 'East', 'East', 'East', 'East', 'East', 'East', 'East', 'East', 'East', 'South', 'South', 'South', 'West', 'West', 'East', 'Central', 'Central', 'Central', 'Central', 'Central', 'Central', 'West', 'West', 'West', 'West', 'West', 'West', 'South', 'West', 'Central', 'Central', 'East', 'East', 'East', 'East', 'East', 'East', 'West', 'West', 'West', 'Central', 'Central', 'Central', 'Central', 'West', 'South', 'South', 'Central', 'Central', 'Central', 'Central', 'Central', 'East', 'East', 'Central', 'West', 'West', 'West', 'West', 'East', 'West', 'West', 'East', 'South', 'South', 'South', 'South', 'West', 'West', 'West', 'Central', 'West', 'Central', 'Central', 'South', 'South', 'South', 'South', 'South', 'West', 'West', 'West', 'West', 'West', 'West', 'Central', 'West', 'West', 'West', 'West', 'West', 'West', 'West', 'Central', 'West', 'Central', 'Central', 'South', 'South', 'Central', 'Central', 'West', 'West', 'West', 'West', 'West', 'Central', 'East', 'East', 'West', 'West', 'South', 'South', 'South', 'South', 'South', 'South', 'South', 'South', 'East', 'Central', 'Central', 'East', 'West', 'Central', 'Central', 'Central', 'West', 'Central', 'West', 'South', 'East', 'West', 'West', 'West', 'South', 'Central', 'Central', 'Central', 'West', 'West', 'East', 'West', 'East', 'South', 'South', 'East', 'East', 'West', 'West', 'West', 'West', 'West', 'East', 'East', 'East', 'East', 'Central', 'Central', 'Central', 'West', 'East', 'East', 'East', 'East', 'West', 'East', 'East', 'West', 'Central', 'Central', 'East', 'East', 'Central', 'West', 'West', 'West', 'West', 'South', 'South', 'West', 'West', 'West', 'West', 'South', 'South', 'South', 'South', 'South', 'South', 'East', 'West', 'West', 'West', 'West', 'West', 'Central', 'West', 'West', 'South', 'South', 'West', 'East', 'East', 'Central', 'Central', 'Central', 'Central', 'Central', 'Central', 'South', 'Central', 'South', 'South', 'South', 'South', 'South', 'West', 'Central', 'Central', 'West', 'South', 'South', 'Central', 'West', 'West', 'Central', 'East', 'Central', 'East', 'East', 'East', 'East', 'East', 'East', 'West', 'South', 'South', 'South', 'South', 'East', 'West', 'West', 'West', 'West', 'West', 'West', 'East', 'East', 'East', 'Central', 'East', 'East', 'East', 'East', 'East', 'East', 'West', 'South', 'South', 'South', 'East', 'East', 'East', 'East', 'East', 'East', 'Central', 'West', 'West', 'South', 'West', 'West', 'West', 'West', 'West', 'West', 'West', 'West', 'West', 'West', 'West', 'West', 'West', 'West', 'West', 'East', 'West', 'West', 'Central', 'Central', 'West', 'Central', 'Central', 'Central', 'Central', 'Central', 'Central', 'West', 'South', 'South', 'South', 'South', 'South', 'South', 'West', 'West', 'East', 'East', 'West', 'West', 'West', 'South', 'South', 'South', 'South', 'Central', 'East', 'East', 'East', 'East', 'East', 'West', 'Central', 'East', 'West', 'East', 'East', 'East', 'East', 'East', 'East', 'East', 'East', 'East', 'East', 'West', 'West', 'West', 'West', 'East', 'West', 'South', 'West', 'West', 'East', 'East', 'South', 'South', 'East', 'East', 'South', 'South', 'Central', 'Central', 'Central', 'Central', 'Central', 'South', 'South', 'South', 'South', 'Central', 'Central', 'South', 'East', 'East', 'East', 'East', 'East', 'East', 'Central', 'South', 'West', 'South', 'Central', 'South', 'South', 'East', 'West', 'West', 'Central', 'Central', 'South', 'South', 'East', 'East', 'East', 'West', 'West', 'West', 'West', 'East', 'West', 'Central', 'Central', 'Central', 'Central', 'Central', 'East', 'East', 'East', 'South', 'East', 'West', 'East', 'Central', 'Central', 'Central', 'Central', 'Central', 'West', 'West', 'South', 'South', 'South', 'South', 'West', 'West', 'West', 'East', 'East', 'South', 'South', 'East', 'Central', 'East', 'West', 'West', 'West', 'West', 'West', 'West', 'West', 'West', 'West', 'Central', 'Central', 'West', 'West', 'West', 'West', 'East', 'East', 'Central', 'West', 'West', 'West', 'East', 'East', 'West', 'West', 'East', 'East', 'East', 'East', 'East', 'East', 'West', 'East', 'West', 'West', 'West', 'West', 'West', 'East', 'West', 'West', 'East', 'East', 'East', 'West', 'West', 'South', 'Central', 'Central', 'Central', 'Central', 'Central', 'Central', 'Central', 'Central', 'Central', 'West', 'East', 'East', 'South', 'Central', 'South', 'South', 'South', 'South', 'West', 'West', 'South', 'South', 'West', 'West', 'South', 'West', 'West', 'West', 'East', 'West', 'Central', 'East', 'East', 'West', 'Central', 'Central', 'Central', 'West', 'West', 'West', 'South', 'West', 'West', 'Central', 'Central', 'East', 'Central', 'Central', 'Central', 'Central', 'Central', 'South', 'South', 'Central', 'West', 'West', 'West', 'East', 'Central', 'South', 'South', 'South', 'Central', 'East', 'East', 'West', 'West', 'East', 'East', 'Central', 'Central', 'East', 'East', 'West', 'West', 'West', 'West', 'West', 'Central', 'East', 'East', 'South', 'South', 'East', 'East', 'West', 'East', 'East', 'South', 'South', 'South', 'East', 'South', 'South', 'South', 'South', 'Central', 'Central', 'Central', 'West', 'East', 'East', 'West', 'Central', 'West', 'West', 'East', 'East', 'West', 'West', 'West', 'East', 'East', 'East', 'East', 'East', 'South', 'South', 'Central', 'West', 'West', 'West', 'West', 'West', 'Central', 'West', 'South', 'Central', 'Central', 'Central', 'Central', 'Central', 'Central', 'Central', 'Central', 'Central', 'Central', 'South', 'South', 'East', 'West', 'West', 'West', 'East', 'East', 'East', 'Central', 'Central', 'West', 'West', 'East', 'West', 'West', 'West', 'West', 'Central', 'West', 'East', 'East', 'West', 'West', 'West', 'East', 'East', 'East', 'East', 'East', 'East', 'East', 'East', 'East', 'East', 'East', 'Central', 'Central', 'South', 'South', 'South', 'South', 'South', 'West', 'West', 'West', 'West', 'West', 'West', 'West', 'West', 'West', 'West', 'Central', 'Central', 'Central', 'Central', 'Central', 'Central', 'South', 'Central', 'Central', 'Central', 'Central', 'Central', 'Central', 'Central', 'South', 'South', 'South', 'South', 'West', 'West', 'West', 'West', 'West', 'West', 'West', 'West', 'East', 'East', 'East', 'East', 'West', 'Central', 'South', 'South', 'South', 'South', 'South', 'South', 'South', 'West', 'East', 'East', 'Central', 'Central', 'East', 'East', 'East', 'West', 'West', 'East', 'Central', 'Central', 'Central', 'West', 'West', 'West', 'West', 'West', 'West', 'West', 'West', 'West', 'East', 'Central', 'West', 'West', 'East', 'East', 'East', 'East', 'East', 'East', 'South', 'South', 'South', 'South', 'South', 'South', 'South', 'East', 'East', 'East', 'West', 'West', 'West', 'West', 'West', 'West', 'West', 'West', 'West', 'South', 'South', 'West', 'Central', 'West', 'West', 'West', 'West', 'West', 'West', 'West', 'West', 'Central', 'Central', 'Central', 'Central', 'Central', 'East', 'East', 'East', 'East', 'East', 'East', 'Central', 'Central', 'East', 'East', 'East', 'East', 'Central', 'West', 'West', 'West', 'Central', 'Central', 'West', 'West', 'West', 'South', 'South', 'South', 'West', 'West', 'West', 'West', 'Central', 'East', 'East', 'East', 'East', 'South', 'South', 'South', 'South', 'South', 'West', 'Central', 'East', 'East', 'East', 'East', 'Central', 'Central', 'West', 'West', 'West', 'West', 'West', 'West', 'West', 'East', 'Central', 'Central', 'Central', 'Central', 'West', 'West', 'West', 'Central', 'Central', 'Central', 'East', 'South', 'East', 'East', 'West', 'West', 'West', 'West', 'West', 'East', 'Central', 'Central', 'West', 'West', 'West', 'Central', 'Central', 'Central', 'South', 'South', 'South', 'South', 'South', 'East', 'East', 'East', 'East', 'West', 'West', 'West', 'West', 'West', 'South', 'West', 'West', 'East', 'East', 'Central', 'Central', 'South', 'West', 'West', 'West', 'West', 'East', 'Central', 'Central', 'Central', 'West', 'South', 'South', 'East', 'East', 'East', 'East', 'East', 'East', 'East', 'East', 'East', 'East', 'West', 'South', 'East', 'East', 'East', 'East', 'East', 'Central', 'Central', 'East', 'East', 'Central', 'Central', 'Central', 'South', 'South', 'South', 'West', 'West', 'West', 'Central', 'Central', 'East', 'East', 'East', 'East', 'East', 'Central', 'Central', 'Central', 'Central', 'Central', 'West', 'East', 'East', 'West', 'South', 'South', 'South', 'West', 'East', 'West', 'West', 'West', 'East', 'East', 'East', 'West', 'Central', 'East', 'East', 'East', 'East', 'Central', 'South', 'West', 'Central', 'Central', 'East', 'West', 'West', 'East', 'South', 'East', 'West', 'West', 'West', 'West', 'East', 'East', 'East', 'Central', 'East', 'South', 'South', 'South', 'South', 'South', 'South', 'East', 'South', 'South', 'East', 'East', 'Central', 'South', 'Central', 'West', 'South', 'East', 'East', 'East', 'West', 'South', 'West', 'West', 'East', 'East', 'East', 'West', 'West', 'West', 'West', 'West', 'South', 'South', 'Central', 'South', 'South', 'South', 'East', 'Central', 'Central', 'Central', 'Central', 'East', 'Central', 'Central', 'West', 'West', 'Central', 'East', 'East', 'East', 'East', 'East', 'West', 'South', 'South', 'South', 'South', 'South', 'South', 'South', 'South', 'East', 'East', 'East', 'East', 'West', 'West', 'West', 'West', 'West', 'West', 'East', 'South', 'East', 'East', 'West', 'East', 'Central', 'Central', 'West', 'West', 'West', 'West', 'Central', 'South', 'West', 'West', 'West', 'West', 'West', 'Central', 'Central', 'East', 'South', 'South', 'Central', 'South', 'South', 'Central', 'Central', 'Central', 'Central', 'Central', 'Central', 'West', 'South', 'South', 'East', 'East', 'East', 'East', 'East', 'West', 'West', 'West', 'West', 'West', 'West', 'West', 'West', 'South', 'East', 'West', 'West', 'West', 'West', 'West', 'West', 'South', 'Central', 'East', 'West', 'West', 'West', 'West', 'West', 'West', 'West', 'West', 'West', 'South', 'South', 'South', 'South', 'East', 'East', 'East', 'East', 'South', 'South', 'South', 'South', 'South', 'South', 'South', 'Central', 'Central', 'Central', 'West', 'West', 'West', 'West', 'West', 'Central', 'East', 'East', 'East', 'East', 'Central', 'West', 'East', 'East', 'East', 'South', 'South', 'South', 'South', 'East', 'East', 'East', 'Central', 'East', 'West', 'West', 'West', 'West', 'West', 'West', 'West', 'West', 'West', 'West', 'West', 'Central', 'Central', 'Central', 'Central', 'Central', 'Central', 'Central', 'Central', 'Central', 'East', 'East', 'East', 'East', 'West', 'West', 'West', 'West', 'West', 'West', 'South', 'South', 'South', 'South', 'South', 'West', 'West', 'West', 'West', 'East', 'East', 'East', 'East', 'East', 'East', 'East', 'South', 'South', 'West', 'Central', 'East', 'East', 'Central', 'Central', 'West', 'East', 'Central', 'Central', 'Central', 'Central', 'South', 'South', 'West', 'West', 'West', 'West', 'West', 'West', 'West', 'Central', 'West', 'West', 'East', 'East', 'East', 'West', 'Central', 'Central', 'Central', 'East', 'West', 'East', 'East', 'East', 'East', 'East', 'East', 'West', 'Central', 'Central', 'Central', 'Central', 'Central', 'Central', 'East', 'East', 'East', 'East', 'Central', 'Central', 'Central', 'Central', 'Central', 'Central', 'Central', 'East', 'South', 'West', 'West', 'West', 'West', 'East', 'East', 'West', 'East', 'East', 'South', 'East', 'East', 'East', 'East', 'East', 'East', 'West', 'West', 'West', 'West', 'West', 'West', 'East', 'East', 'East', 'East', 'East', 'East', 'East', 'West', 'West', 'Central', 'Central', 'Central', 'Central', 'Central', 'Central', 'Central', 'South', 'South', 'South', 'East', 'West', 'West', 'West', 'West', 'West', 'South', 'South', 'West', 'West', 'East', 'West', 'West', 'East', 'West', 'West', 'West', 'West', 'West', 'West', 'West', 'West', 'West', 'West', 'West', 'West', 'Central', 'Central', 'Central', 'East', 'Central', 'Central', 'Central', 'Central', 'Central', 'Central', 'West', 'Central', 'West', 'Central', 'West', 'West', 'West', 'East', 'East', 'West', 'Central', 'Central', 'Central', 'Central', 'West', 'West', 'West', 'West', 'Central', 'West', 'West', 'South', 'East', 'East', 'East', 'East', 'West', 'West', 'West', 'West', 'Central', 'Central', 'South', 'West', 'Central', 'Central', 'West', 'West', 'West', 'East', 'East', 'East', 'West', 'Central', 'East', 'East', 'East', 'East', 'West', 'West', 'West', 'West', 'West', 'West', 'West', 'West', 'South', 'West', 'West', 'West', 'Central', 'East', 'West', 'West', 'West', 'East', 'East', 'Central', 'Central', 'Central', 'Central', 'Central', 'East', 'East', 'East', 'East', 'East', 'South', 'South', 'South', 'West', 'South', 'South', 'South', 'Central', 'Central', 'East', 'East', 'East', 'East', 'East', 'South', 'South', 'South', 'South', 'South', 'Central', 'Central', 'South', 'South', 'South', 'South', 'Central', 'Central', 'Central', 'Central', 'Central', 'Central', 'West', 'West', 'East', 'East', 'East', 'East', 'East', 'South', 'South', 'West', 'West', 'South', 'South', 'South', 'South', 'South', 'South', 'South', 'East', 'East', 'West', 'West', 'South', 'Central', 'Central', 'East', 'Central', 'Central', 'Central', 'Central', 'West', 'West', 'West', 'West', 'West', 'West', 'Central', 'Central', 'Central', 'South', 'South', 'East', 'East', 'East', 'Central', 'Central', 'Central', 'Central', 'East', 'West', 'East', 'East', 'East', 'South', 'South', 'South', 'South', 'South', 'South', 'Central', 'Central', 'Central', 'Central', 'South', 'South', 'South', 'South', 'South', 'South', 'East', 'West', 'East', 'South', 'South', 'South', 'South', 'West', 'Central', 'West', 'West', 'West', 'West', 'Central', 'Central', 'Central', 'West', 'Central', 'Central', 'South', 'South', 'Central', 'Central', 'Central', 'Central', 'South', 'South', 'East', 'Central', 'Central', 'East', 'East', 'South', 'South', 'Central', 'Central', 'East', 'East', 'East', 'East', 'East', 'East', 'East', 'East', 'South', 'South', 'South', 'West', 'South', 'West', 'South', 'South', 'South', 'South', 'East', 'East', 'East', 'East', 'East', 'East', 'East', 'East', 'East', 'East', 'South', 'West', 'West', 'West', 'Central', 'Central', 'Central', 'Central', 'South', 'West', 'West', 'West', 'West', 'West', 'West', 'Central', 'West', 'West', 'West', 'West', 'South', 'Central', 'Central', 'Central', 'Central', 'West', 'Central', 'East', 'East', 'West', 'East', 'East', 'East', 'East', 'West', 'East', 'East', 'East', 'East', 'East', 'South', 'Central', 'East', 'West', 'East', 'East', 'East', 'West', 'East', 'East', 'East', 'East', 'East', 'West', 'South', 'South', 'Central', 'Central', 'Central', 'Central', 'West', 'West', 'West', 'West', 'West', 'East', 'East', 'East', 'East', 'East', 'West', 'Central', 'West', 'East', 'Central', 'East', 'Central', 'Central', 'Central', 'Central', 'West', 'East', 'West', 'Central', 'East', 'West', 'East', 'East', 'East', 'East', 'East', 'East', 'East', 'East', 'East', 'West', 'Central', 'Central', 'Central', 'West', 'Central', 'Central', 'Central', 'Central', 'East', 'East', 'Central', 'West', 'West', 'East', 'East', 'West', 'Central', 'South', 'South', 'South', 'South', 'South', 'East', 'East', 'West', 'East', 'West', 'West', 'Central', 'East', 'East', 'Central', 'West', 'West', 'West', 'West', 'South', 'South', 'South', 'West', 'Central', 'Central', 'Central', 'West', 'East', 'East', 'East', 'East', 'East', 'West', 'West', 'West', 'Central', 'Central', 'Central', 'Central', 'Central', 'Central', 'Central', 'East', 'Central', 'South', 'South', 'South', 'East', 'Central', 'East', 'East', 'East', 'East', 'Central', 'West', 'East', 'East', 'East', 'East', 'East', 'West', 'Central', 'Central', 'Central', 'Central', 'South', 'West', 'East', 'East', 'East', 'West', 'West', 'East', 'East', 'East', 'South', 'South', 'South', 'West', 'West', 'West', 'Central', 'Central', 'Central', 'South', 'South', 'South', 'South', 'Central', 'Central', 'Central', 'Central', 'Central', 'Central', 'South', 'South', 'Central', 'Central', 'East', 'East', 'East', 'East', 'Central', 'Central', 'East', 'West', 'South', 'East', 'Central', 'Central', 'South', 'Central', 'Central', 'Central', 'Central', 'West', 'East', 'West', 'West', 'East', 'East', 'East', 'West', 'West', 'South', 'South', 'South', 'South', 'West', 'West', 'West', 'West', 'West', 'West', 'Central', 'Central', 'Central', 'East', 'East', 'East', 'East', 'East', 'West', 'West', 'West', 'West', 'West', 'West', 'West', 'West', 'East', 'Central', 'South', 'West', 'South', 'South', 'West', 'East', 'East', 'East', 'East', 'East', 'East', 'East', 'East', 'East', 'South', 'South', 'West', 'Central', 'South', 'Central', 'West', 'South', 'South', 'South', 'South', 'West', 'South', 'South', 'South', 'West', 'West', 'West', 'West', 'West', 'West', 'West', 'West', 'Central', 'East', 'South', 'Central', 'Central', 'Central', 'West', 'West', 'East', 'West', 'West', 'West', 'East', 'East', 'Central', 'Central', 'Central', 'Central', 'Central', 'Central', 'Central', 'Central', 'South', 'South', 'South', 'West', 'West', 'East', 'West', 'West', 'West', 'East', 'East', 'East', 'East', 'West', 'Central', 'West', 'South', 'South', 'South', 'South', 'South', 'South', 'South', 'East', 'Central', 'West', 'East', 'East', 'West', 'West', 'West', 'West', 'West', 'West', 'West', 'East', 'Central', 'Central', 'Central', 'Central', 'Central', 'Central', 'Central', 'South', 'South', 'West', 'South', 'South', 'South', 'South', 'South', 'Central', 'West', 'West', 'West', 'East', 'Central', 'South', 'East', 'East', 'South', 'Central', 'West', 'West', 'East', 'East', 'West', 'West', 'West', 'East', 'East', 'South', 'South', 'East', 'East', 'East', 'East', 'East', 'East', 'East', 'South', 'South', 'West', 'West', 'Central', 'Central', 'Central', 'Central', 'East', 'West', 'West', 'South', 'South', 'East', 'East', 'Central', 'Central', 'Central', 'East', 'West', 'Central', 'Central', 'West', 'West', 'South', 'West', 'West', 'West', 'South', 'South', 'South', 'Central', 'West', 'West', 'West', 'West', 'West', 'West', 'East', 'East', 'Central', 'Central', 'Central', 'East', 'East', 'West', 'East', 'East', 'East', 'East', 'West', 'Central', 'Central', 'West', 'East', 'East', 'East', 'East', 'East', 'Central', 'South', 'South', 'South', 'South', 'East', 'East', 'Central', 'Central', 'Central', 'Central', 'West', 'South', 'East', 'South', 'South', 'South', 'South', 'South', 'West', 'West', 'West', 'West', 'West', 'Central', 'East', 'East', 'East', 'East', 'South', 'South', 'South', 'South', 'East', 'East', 'East', 'West', 'West', 'West', 'West', 'South', 'East', 'East', 'East', 'East', 'East', 'South', 'Central', 'Central', 'West', 'West', 'West', 'West', 'East', 'East', 'Central', 'Central', 'Central', 'East', 'East', 'West', 'West', 'Central', 'South', 'South', 'East', 'East', 'East', 'West', 'West', 'Central', 'Central', 'South', 'West', 'Central', 'West', 'West', 'West', 'West', 'South', 'South', 'Central', 'Central', 'Central', 'Central', 'East', 'East', 'East', 'West', 'West', 'East', 'South', 'South', 'South', 'South', 'Central', 'Central', 'Central', 'Central', 'Central', 'South', 'East', 'South', 'South', 'South', 'Central', 'Central', 'Central', 'West', 'Central', 'Central', 'Central', 'Central', 'Central', 'Central', 'East', 'East', 'West', 'West', 'West', 'West', 'South', 'West', 'West', 'Central', 'West', 'West', 'East', 'East', 'West', 'South', 'South', 'South', 'South', 'South', 'South', 'West', 'South', 'South', 'Central', 'Central', 'Central', 'Central', 'South', 'South', 'South', 'Central', 'East', 'East', 'South', 'East', 'East', 'East', 'East', 'West', 'Central', 'Central', 'Central', 'Central', 'East', 'Central', 'Central', 'Central', 'Central', 'Central', 'Central', 'South', 'South', 'South', 'South', 'Central', 'Central', 'West', 'South', 'South', 'South', 'South', 'Central', 'Central', 'Central', 'East', 'West', 'South', 'South', 'West', 'West', 'Central', 'Central', 'Central', 'Central', 'East', 'South', 'Central', 'East', 'West', 'West', 'West', 'West', 'West', 'West', 'South', 'South', 'East', 'West', 'East', 'East', 'East', 'East', 'East', 'East', 'East', 'West', 'West', 'Central', 'South', 'Central', 'Central', 'East', 'East', 'Central', 'Central', 'West', 'South', 'West', 'West', 'West', 'West', 'West', 'West', 'West', 'East', 'West', 'West', 'West', 'West', 'West', 'West', 'East', 'West', 'West', 'West', 'West', 'West', 'East', 'Central', 'Central', 'Central', 'South', 'East', 'West', 'West', 'East', 'Central', 'Central', 'Central', 'South', 'East', 'East', 'Central', 'South', 'South', 'West', 'West', 'South', 'South', 'South', 'West', 'Central', 'Central', 'South', 'East', 'South', 'East', 'East', 'Central', 'Central', 'Central', 'Central', 'Central', 'Central', 'Central', 'Central', 'Central', 'Central', 'Central', 'Central', 'Central', 'Central', 'Central', 'Central', 'Central', 'South', 'South', 'South', 'South', 'West', 'East', 'East', 'East', 'East', 'West', 'West', 'West', 'West', 'East', 'Central', 'Central', 'West', 'Central', 'West', 'East', 'East', 'East', 'East', 'West', 'South', 'South', 'South', 'South', 'South', 'Central', 'West', 'East', 'West', 'West', 'West', 'Central', 'East', 'East', 'East', 'Central', 'Central', 'West', 'West', 'West', 'East', 'West', 'East', 'East', 'East', 'South', 'South', 'Central', 'Central', 'Central', 'Central', 'West', 'West', 'West', 'South', 'South', 'West', 'West', 'West', 'West', 'West', 'West', 'South', 'East', 'East', 'West', 'West', 'West', 'West', 'West', 'West', 'West', 'West', 'East', 'East', 'East', 'East', 'East', 'Central', 'Central', 'West', 'West', 'West', 'West', 'West', 'West', 'East', 'East', 'East', 'East', 'West', 'East', 'East', 'Central', 'West', 'Central', 'Central', 'West', 'West', 'West', 'East', 'West', 'Central', 'Central', 'East', 'East', 'South', 'South', 'South', 'Central', 'Central', 'Central', 'Central', 'West', 'West', 'West', 'West', 'West', 'West', 'West', 'West', 'West', 'West', 'West', 'East', 'South', 'South', 'South', 'West', 'West', 'West', 'West', 'West', 'West', 'East', 'East', 'Central', 'West', 'South', 'South', 'Central', 'Central', 'Central', 'Central', 'Central', 'Central', 'Central', 'West', 'Central', 'Central', 'South', 'South', 'West', 'East', 'East', 'East', 'East', 'East', 'East', 'South', 'West', 'South', 'South', 'East', 'East', 'East', 'West', 'South', 'South', 'West', 'Central', 'South', 'Central', 'Central', 'East', 'West', 'East', 'East', 'Central', 'East', 'East', 'East', 'Central', 'Central', 'Central', 'Central', 'Central', 'Central', 'Central', 'Central', 'Central', 'West', 'West', 'West', 'West', 'West', 'East', 'Central', 'Central', 'Central', 'Central', 'East', 'East', 'Central', 'East', 'East', 'East', 'Central', 'Central', 'West', 'West', 'West', 'West', 'West', 'West', 'West', 'East', 'West', 'South', 'South', 'South', 'South', 'West', 'West', 'West', 'West', 'West', 'West', 'West', 'East', 'East', 'East', 'East', 'East', 'West', 'West', 'West', 'West', 'Central', 'Central', 'Central', 'Central', 'Central', 'East', 'East', 'East', 'East', 'West', 'West', 'West', 'West', 'Central', 'East', 'East', 'East', 'East', 'East', 'East', 'East', 'West', 'West', 'West', 'East', 'Central', 'Central', 'South', 'South', 'South', 'South', 'South', 'East', 'West', 'East', 'East', 'East', 'East', 'Central', 'Central', 'West', 'East', 'East', 'East', 'East', 'East', 'East', 'Central', 'South', 'West', 'East', 'East', 'East', 'Central', 'Central', 'East', 'East', 'East', 'East', 'West', 'West', 'Central', 'West', 'West', 'West', 'South', 'South', 'Central', 'Central', 'West', 'West', 'West', 'West', 'East', 'West', 'East', 'Central', 'Central', 'Central', 'East', 'West', 'West', 'West', 'West', 'East', 'West', 'East', 'Central', 'East', 'East', 'South', 'South', 'Central', 'Central', 'Central', 'Central', 'West', 'West', 'West', 'West', 'West', 'West', 'West', 'South', 'South', 'South', 'West', 'West', 'East', 'West', 'South', 'East', 'East', 'West', 'East', 'East', 'East', 'East', 'East', 'East', 'East', 'East', 'Central', 'Central', 'Central', 'Central', 'Central', 'Central', 'Central', 'Central', 'East', 'West', 'Central', 'Central', 'East', 'East', 'West', 'South', 'West', 'West', 'Central', 'Central', 'Central', 'West', 'West', 'Central', 'Central', 'Central', 'Central', 'West', 'East', 'East', 'East', 'East', 'Central', 'Central', 'Central', 'Central', 'East', 'Central', 'Central', 'Central', 'South', 'Central', 'East', 'East', 'East', 'West', 'West', 'Central', 'Central', 'Central', 'West', 'West', 'West', 'West', 'West', 'Central', 'West', 'Central', 'East', 'East', 'East', 'East', 'Central', 'West', 'East', 'East', 'West', 'Central', 'Central', 'Central', 'Central', 'Central', 'Central', 'East', 'East', 'East', 'West', 'East', 'South', 'West', 'East', 'East', 'East', 'Central', 'East', 'East', 'East', 'East', 'East', 'East', 'West', 'South', 'South', 'South', 'Central', 'East', 'East', 'East', 'East', 'East', 'West', 'Central', 'Central', 'Central', 'East', 'East', 'East', 'East', 'East', 'East', 'Central', 'South', 'West', 'Central', 'Central', 'Central', 'Central', 'Central', 'Central', 'East', 'East', 'West', 'West', 'West', 'West', 'West', 'Central', 'South', 'South', 'East', 'South', 'East', 'East', 'East', 'East', 'West', 'West', 'South', 'West', 'West', 'West', 'West', 'West', 'East', 'East', 'East', 'East', 'East', 'East', 'Central', 'Central', 'Central', 'Central', 'Central', 'East', 'East', 'East', 'East', 'Central', 'East', 'East', 'East', 'West', 'West', 'West', 'South', 'West', 'West', 'West', 'West', 'West', 'West', 'West', 'Central', 'Central', 'West', 'West', 'West', 'West', 'West', 'West', 'East', 'East', 'East', 'East', 'West', 'West', 'West', 'West', 'West', 'West', 'West', 'West', 'West', 'West', 'South', 'South', 'West', 'East', 'East', 'Central', 'West', 'Central', 'East', 'East', 'West', 'West', 'West', 'West', 'West', 'West', 'West', 'West', 'Central', 'South', 'South', 'East', 'Central', 'East', 'West', 'West', 'East', 'Central', 'East', 'West', 'West', 'West', 'West', 'East', 'East', 'East', 'West', 'West', 'West', 'West', 'West', 'East', 'East', 'East', 'East', 'East', 'West', 'East', 'Central', 'Central', 'East', 'Central', 'East', 'East', 'East', 'Central', 'West', 'East', 'East', 'East', 'West', 'West', 'West', 'South', 'South', 'South', 'East', 'Central', 'West', 'West', 'West', 'West', 'East', 'West', 'East', 'Central', 'West', 'West', 'Central', 'Central', 'East', 'Central', 'Central', 'West', 'South', 'South', 'South', 'South', 'South', 'South', 'West', 'South', 'West', 'West', 'West', 'West', 'East', 'East', 'Central', 'West', 'South', 'South', 'South', 'East', 'South', 'Central', 'Central', 'Central', 'Central', 'Central', 'Central', 'East', 'East', 'East', 'East', 'East', 'South', 'South', 'Central', 'Central', 'Central', 'Central', 'Central', 'Central', 'Central', 'Central', 'Central', 'East', 'East', 'East', 'East', 'East', 'West', 'East', 'East', 'East', 'South', 'South', 'South', 'Central', 'West', 'West', 'East', 'East', 'East', 'East', 'South', 'South', 'South', 'South', 'South', 'South', 'South', 'West', 'West', 'West', 'West', 'West', 'East', 'East', 'South', 'Central', 'Central', 'Central', 'East', 'Central', 'Central', 'West', 'West', 'West', 'West', 'West', 'West', 'West', 'Central', 'Central', 'Central', 'West', 'West', 'West', 'West', 'East', 'East', 'East', 'East', 'West', 'West', 'South', 'West', 'Central', 'Central', 'Central', 'Central', 'Central', 'Central', 'Central', 'Central', 'East', 'East', 'East', 'East', 'East', 'Central', 'Central', 'East', 'East', 'East', 'East', 'East', 'East', 'East', 'East', 'South', 'South', 'West', 'West', 'West', 'Central', 'East', 'East', 'East', 'Central', 'Central', 'Central', 'Central', 'Central', 'Central', 'Central', 'East', 'East', 'East', 'West', 'West', 'West', 'Central', 'Central', 'West', 'West', 'West', 'West', 'West', 'West', 'South', 'West', 'West', 'Central', 'Central', 'Central', 'Central', 'East', 'Central', 'Central', 'East', 'Central', 'East', 'East', 'East', 'East', 'East', 'West', 'West', 'West', 'West', 'West', 'East', 'East', 'East', 'East', 'West', 'East', 'East', 'East', 'West', 'West', 'West', 'West', 'East', 'East', 'Central', 'Central', 'Central', 'Central', 'Central', 'West', 'West', 'West', 'West', 'East', 'East', 'East', 'West', 'South', 'Central', 'Central', 'East', 'East', 'East', 'East', 'East', 'East', 'East', 'South', 'South', 'Central', 'West', 'West', 'West', 'West', 'West', 'West', 'West', 'South', 'East', 'Central', 'Central', 'East', 'East', 'West', 'South', 'South', 'South', 'West', 'West', 'West', 'West']\n"
     ]
    }
   ],
   "source": [
    "print(l)"
   ]
  },
  {
   "cell_type": "markdown",
   "id": "92adf79c",
   "metadata": {},
   "source": [
    "# count of Region with greater cells"
   ]
  },
  {
   "cell_type": "code",
   "execution_count": 24,
   "id": "9a548967",
   "metadata": {},
   "outputs": [
    {
     "name": "stdout",
     "output_type": "stream",
     "text": [
      "{'South': 1620, 'West': 3203, 'East': 2848, 'Central': 2323}\n"
     ]
    }
   ],
   "source": [
    "s_count=l.count(\"South\")\n",
    "w_count=l.count(\"West\")\n",
    "max_count_of_region={\"South\":0,\"West\":0,\"East\":0,\"Central\":0}\n",
    "for i in l:\n",
    "    max_count_of_region[i]+=1\n",
    "print(max_count_of_region)"
   ]
  },
  {
   "cell_type": "markdown",
   "id": "eaf15d3f",
   "metadata": {},
   "source": [
    "# State Names with respect to Regions "
   ]
  },
  {
   "cell_type": "code",
   "execution_count": 26,
   "id": "0bde2701",
   "metadata": {},
   "outputs": [],
   "source": [
    "state_mapping={\"South\":[],\"West\":[],\"East\":[],\"Central\":[]}"
   ]
  },
  {
   "cell_type": "code",
   "execution_count": 27,
   "id": "df9775d5",
   "metadata": {},
   "outputs": [],
   "source": [
    "for i in range(len(state_list)):\n",
    "    state_mapping[l[i]].append(state_list[i])"
   ]
  },
  {
   "cell_type": "code",
   "execution_count": 28,
   "id": "09390e1e",
   "metadata": {},
   "outputs": [
    {
     "name": "stdout",
     "output_type": "stream",
     "text": [
      "South:\n",
      "{'Georgia', 'Alabama', 'Mississippi', 'North Carolina', 'Tennessee', 'Florida', 'Kentucky', 'Louisiana', 'Virginia', 'Arkansas', 'South Carolina'}\n",
      "West\n",
      "{'California', 'Oregon', 'Colorado', 'Montana', 'Washington', 'New Mexico', 'Arizona', 'Idaho', 'Nevada', 'Wyoming', 'Utah'}\n",
      "East\n",
      "{'Delaware', 'Vermont', 'Maine', 'West Virginia', 'Ohio', 'New Jersey', 'New York', 'Rhode Island', 'District of Columbia', 'Pennsylvania', 'Massachusetts', 'New Hampshire', 'Maryland', 'Connecticut'}\n",
      "Central\n",
      "{'Indiana', 'South Dakota', 'Minnesota', 'Illinois', 'Oklahoma', 'Iowa', 'Kansas', 'North Dakota', 'Missouri', 'Nebraska', 'Wisconsin', 'Michigan', 'Texas'}\n"
     ]
    }
   ],
   "source": [
    "print(\"South:\")\n",
    "print(set(state_mapping[\"South\"]))\n",
    "print(\"West\")\n",
    "print(set(state_mapping[\"West\"]))\n",
    "print(\"East\")\n",
    "print(set(state_mapping[\"East\"]))\n",
    "print(\"Central\")\n",
    "print(set(state_mapping[\"Central\"]))"
   ]
  },
  {
   "cell_type": "markdown",
   "id": "29151a5d",
   "metadata": {},
   "source": [
    "# Max count  of west with states count"
   ]
  },
  {
   "cell_type": "code",
   "execution_count": 46,
   "id": "5123c2c7",
   "metadata": {},
   "outputs": [
    {
     "name": "stdout",
     "output_type": "stream",
     "text": [
      "Maximum orders placed Region is West: 3203\n",
      "\n",
      "{'California': 2001, 'Oregon': 124, 'Colorado': 182, 'Montana': 15, 'Washington': 506, 'New Mexico': 37, 'Arizona': 224, 'Idaho': 21, 'Nevada': 39, 'Wyoming': 1, 'Utah': 53}\n"
     ]
    }
   ],
   "source": [
    "West_count_States_mapping = {}\n",
    "for i in set(state_mapping[\"West\"]):\n",
    "    West_count_States_mapping[i]=0\n",
    "for i in state_mapping[\"West\"]:\n",
    "    West_count_States_mapping[i]+=1\n",
    "print(\"Maximum orders placed Region is West:\",max_count_of_region[\"West\"])\n",
    "print()\n",
    "print(West_count_States_mapping)   "
   ]
  },
  {
   "cell_type": "code",
   "execution_count": null,
   "id": "46a89c54",
   "metadata": {},
   "outputs": [],
   "source": []
  }
 ],
 "metadata": {
  "kernelspec": {
   "display_name": "Python 3",
   "language": "python",
   "name": "python3"
  },
  "language_info": {
   "codemirror_mode": {
    "name": "ipython",
    "version": 3
   },
   "file_extension": ".py",
   "mimetype": "text/x-python",
   "name": "python",
   "nbconvert_exporter": "python",
   "pygments_lexer": "ipython3",
   "version": "3.9.6"
  }
 },
 "nbformat": 4,
 "nbformat_minor": 5
}
